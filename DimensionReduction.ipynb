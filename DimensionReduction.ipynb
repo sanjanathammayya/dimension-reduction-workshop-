{
  "nbformat": 4,
  "nbformat_minor": 0,
  "metadata": {
    "colab": {
      "provenance": [],
      "include_colab_link": true
    },
    "kernelspec": {
      "name": "python3",
      "display_name": "Python 3"
    }
  },
  "cells": [
    {
      "cell_type": "markdown",
      "metadata": {
        "id": "view-in-github",
        "colab_type": "text"
      },
      "source": [
        "<a href=\"https://colab.research.google.com/github/sanjanathammayya/dimension-reduction-workshop-/blob/main/DimensionReduction.ipynb\" target=\"_parent\"><img src=\"https://colab.research.google.com/assets/colab-badge.svg\" alt=\"Open In Colab\"/></a>"
      ]
    },
    {
      "cell_type": "markdown",
      "source": [
        "---\n",
        "\n",
        "**Load essential libraries**\n",
        "\n",
        "---"
      ],
      "metadata": {
        "id": "C0o-zgcznSo2"
      }
    },
    {
      "cell_type": "code",
      "metadata": {
        "id": "9bXubpvoUUTn"
      },
      "source": [
        "import pandas as pd\n",
        "import numpy as np\n",
        "import sys\n",
        "from scipy import linalg\n",
        "\n",
        "import matplotlib.pyplot as plt\n",
        "import matplotlib.cm as cm\n",
        "plt.style.use('dark_background')\n",
        "%matplotlib inline\n",
        "\n",
        "from sklearn.decomposition import PCA\n",
        "\n",
        "from sklearn.preprocessing import StandardScaler, RobustScaler\n",
        "from sklearn.model_selection import train_test_split\n",
        "from sklearn.datasets import make_blobs\n",
        "\n",
        "from scipy.sparse import random\n",
        "from scipy import stats"
      ],
      "execution_count": 48,
      "outputs": []
    },
    {
      "cell_type": "markdown",
      "source": [
        "---\n",
        "\n",
        "Mount Google Drive folder if running Google Colab\n",
        "\n",
        "---"
      ],
      "metadata": {
        "id": "EGzvIEJknYAd"
      }
    },
    {
      "cell_type": "code",
      "metadata": {
        "id": "4-QDMWggVk1A",
        "colab": {
          "base_uri": "https://localhost:8080/"
        },
        "outputId": "0cdbd55a-8e0d-4945-be16-75a269841987"
      },
      "source": [
        "## Mount Google drive folder if running in Colab\n",
        "if('google.colab' in sys.modules):\n",
        "    from google.colab import drive\n",
        "    drive.mount('/content/drive', force_remount = True)\n",
        "    DIR = '/content/drive/MyDrive/Colab Notebooks/dimensionReduction'\n",
        "    DATA_DIR = DIR+'/Data/'\n",
        "else:\n",
        "    DATA_DIR = 'Data/'"
      ],
      "execution_count": 49,
      "outputs": [
        {
          "output_type": "stream",
          "name": "stdout",
          "text": [
            "Mounted at /content/drive\n"
          ]
        }
      ]
    },
    {
      "cell_type": "markdown",
      "source": [
        "**Data Matrix**:\n",
        "\n",
        "Patient data corresponding to 4 patients and 3 features:\n",
        "\n",
        "![Patient dataset](https://bl3302files.storage.live.com/y4mlspYO-L_1kEGpBOCUilkrcj3evQtgjGXDt6v2NgJwtsJf2OZVnwRnUht7CmW_wk8VMlMyGfhDqgRubB3pLHXAOe3r-pQ5wtYUuOqR_gsZzHWCqE2IEbhBjUZob5suLplmONyMsAjr1twDPK7eGODrKyav1dP1aX3lWx1YV0hiLvuTEZ7-GujIypTMkaSV2or?width=256&height=153&cropmode=none)\n",
        "\n",
        "**Notation**:\n",
        "\n",
        "*   $0$th patient vector $$\\mathbf{x}^{(0)} = \\begin{bmatrix}76\\\\126\\\\38.0\\end{bmatrix}$$\n",
        "* Data matrix in terms of samples: $$\\mathbf{X} = \\begin{bmatrix}\\mathbf{{x}^{(0)}}^\\mathrm{T}\\\\{{x}^{(1)}}^\\mathrm{T}\\\\{{x}^{(2)}}^\\mathrm{T}\\\\{{x}^{(3)}}^\\mathrm{T}\\end{bmatrix}.$$\n",
        "*   $0$th feature (HR) vector $$\\mathbf{x}_0 = \\begin{bmatrix}76\\\\74\\\\72\\\\78\\end{bmatrix}$$\n",
        "* Data matrix in terms of features: $$\\mathbf{X} = \\begin{bmatrix}\\mathbf{x}_0&\\mathbf{x}_1&\\mathbf{x}_2\\end{bmatrix}.$$\n",
        "\n"
      ],
      "metadata": {
        "id": "2Nwtpcbfn3Tz"
      }
    },
    {
      "cell_type": "code",
      "source": [
        "## Patient data as a dataframe\n",
        "df_patient = pd.DataFrame({'HR' : [76, 74, 72, 78],\n",
        "                           'BP' : [126, 120, 118, 136],\n",
        "                           'Temp': [38, 38, 37.5, 37]})\n",
        "\n",
        "print(df_patient)\n",
        "print('----------')\n",
        "X = np.array(df_patient) # the data matrix\n",
        "print(X)"
      ],
      "metadata": {
        "id": "Odjnvd1mn390",
        "colab": {
          "base_uri": "https://localhost:8080/"
        },
        "outputId": "e997b889-76c1-4b7a-990e-cd89728373b8"
      },
      "execution_count": 50,
      "outputs": [
        {
          "output_type": "stream",
          "name": "stdout",
          "text": [
            "   HR   BP  Temp\n",
            "0  76  126  38.0\n",
            "1  74  120  38.0\n",
            "2  72  118  37.5\n",
            "3  78  136  37.0\n",
            "----------\n",
            "[[ 76.  126.   38. ]\n",
            " [ 74.  120.   38. ]\n",
            " [ 72.  118.   37.5]\n",
            " [ 78.  136.   37. ]]\n"
          ]
        }
      ]
    },
    {
      "cell_type": "markdown",
      "source": [
        "---\n",
        "\n",
        "**Vector operations**:\n",
        "\n",
        "**Addition**:\n",
        "\n",
        "![Vector addition](https://bl3302files.storage.live.com/y4mMlnDRWzIoNKWynOZFhzhFNDlReoFxf7XwSeFwNWW8f1lu5ssj_SvgMAEN9BWiQ2F-meER7rD2an2n2tfDoWffBHE8aD_WBsL0LAbHxnIpZtZu6hNJAvZ88m746S_ktA9-h-oo108AQjkXQHkYrgJ5AUCpvKB2dipeNG1VfIK_38Q8fsq6OKD43adplgy0H1k?width=200&height=80&cropmode=none)\n",
        "\n",
        "**Subtraction**:\n",
        "\n",
        "![Vector subtraction](https://bl3302files.storage.live.com/y4mnQkNUONVVKJJ6dCEqV9lEuP360lE0yRumSIgl9LaQH_qBqjgI9wvUd64xJ-UNIjR7wJXZyaXZ_kf1_gAB9sXjMWaMxWhSnX6zcyvVtTrCDeO1MNWzj3A1YqI5YLALK-CGCSMurNV938QLH3C2u1-BE8_addFYSeO7DmCKz5TdWGf7qtC8M9rRN26RMqpk8iu?width=200&height=80&cropmode=none)\n",
        "\n",
        "**Scalar mutiplication**:\n",
        "\n",
        "![Scalar-vector multiplication](https://bl3302files.storage.live.com/y4mYNwLMmuKRl3sNDSo0yyXYs0KFw1LBnQCU6nAgSawanlGNgLq7Bd93DQ0ojamRpGLx_PZvnsSG-6K-3TsdDctw5sm-QxnWUHSTJGalDR4JmUp27_Hf3ESAQukZ1Jk5G16ykO7H3AKmLSQxE4vVIAtMFbCnyxtsQEfpyb_SK5jIjVtjl7yoFcBDzsRDGzo5cZM?width=200&height=80&cropmode=none)\n",
        "\n",
        "**Geometric representation**:\n",
        "\n",
        "![Vector subtraction](https://1drv.ms/i/s!AjTcbXuSD3I3hst3c2-ys_ybfdgK1A?embed=1&width=256)\n",
        "\n",
        "---"
      ],
      "metadata": {
        "id": "KvSrGeEC95iE"
      }
    },
    {
      "cell_type": "code",
      "source": [
        "## Vector operations\n",
        "\n",
        "# Difference between the 0th and 1st patient\n",
        "print(X[0]-X[1])\n",
        "\n",
        "# Scalar-vector multiplication: convert temperature to Fahrenheit\n",
        "print((9/5)*X[:, 2]+32)\n",
        "\n",
        "# Average patient\n",
        "print((1/4)*(X[0]+X[1]+X[2]+X[3]))\n",
        "print(np.mean(X, axis = 0))"
      ],
      "metadata": {
        "id": "VeFTtBlP98Fa",
        "colab": {
          "base_uri": "https://localhost:8080/"
        },
        "outputId": "5b9e61cb-bd99-4c36-e4f8-ec1124c32e24"
      },
      "execution_count": 51,
      "outputs": [
        {
          "output_type": "stream",
          "name": "stdout",
          "text": [
            "[2. 6. 0.]\n",
            "[100.4 100.4  99.5  98.6]\n",
            "[ 75.    125.     37.625]\n",
            "[ 75.    125.     37.625]\n"
          ]
        }
      ]
    },
    {
      "cell_type": "markdown",
      "source": [
        "---\n",
        "\n",
        "$l_2$ norm or the geometric length of a vector denoted as $\\lVert\\mathbf{a}\\rVert$ tells us how long a vector is. In 2-dimensions, $\\lVert\\mathbf{a}\\rVert_2 = \\sqrt{a_1^2+a_2^2}$ and in $n$-dimensions, $\\lVert\\mathbf{a}\\rVert_2 = \\sqrt{a_1^2+a_2^2+\\cdots+a_n^2}.$\n",
        "\n",
        "![Vector norm](https://1drv.ms/i/s!AjTcbXuSD3I3hst4L2r4EdKcLq1DVA?embed=1&width=256)\n",
        "---"
      ],
      "metadata": {
        "id": "lgYXZaJDII3B"
      }
    },
    {
      "cell_type": "code",
      "source": [
        "a = np.array([1, 2])\n",
        "np.linalg.norm(a)"
      ],
      "metadata": {
        "id": "Ze6QKsjSIJm9",
        "colab": {
          "base_uri": "https://localhost:8080/"
        },
        "outputId": "81da4043-bf1d-4001-a809-129e9a184b80"
      },
      "execution_count": 52,
      "outputs": [
        {
          "output_type": "execute_result",
          "data": {
            "text/plain": [
              "2.23606797749979"
            ]
          },
          "metadata": {},
          "execution_count": 52
        }
      ]
    },
    {
      "cell_type": "markdown",
      "source": [
        "\n",
        "---\n",
        "\n",
        "**Dot Product of Vectors**\n",
        "\n",
        "A scalar resulting from an elementwise multiplication and addition: $$\\mathbf{a}{\\color{cyan}\\cdot}\\mathbf{b} = {\\color{red}{a_1b_1}}+{\\color{green}{a_2b_2}}+\\cdots+{\\color{magenta}{a_nb_n}}$$\n",
        "\n",
        "The <font color=\"cyan\">dot</font> ${\\color{cyan}\\cdot}$ represents the computation of the dot product.\n",
        "\n",
        "---"
      ],
      "metadata": {
        "id": "YT-etkK_nkcb"
      }
    },
    {
      "cell_type": "code",
      "source": [
        "a = np.array([1, 2, 3])\n",
        "b = np.array([2, -1, 0])\n",
        "np.dot(a, b)"
      ],
      "metadata": {
        "id": "tVPMORxbnn-M",
        "colab": {
          "base_uri": "https://localhost:8080/"
        },
        "outputId": "473e4a6b-bb8e-472b-f329-752381512705"
      },
      "execution_count": 53,
      "outputs": [
        {
          "output_type": "execute_result",
          "data": {
            "text/plain": [
              "0"
            ]
          },
          "metadata": {},
          "execution_count": 53
        }
      ]
    },
    {
      "cell_type": "markdown",
      "source": [
        "---\n",
        "\n",
        "**Cauchy-Schwarz inequality**\n",
        "\n",
        "For any two vectors $\\mathbf{a}$ and $\\mathbf{b}$ it is always true that $$-1\\leq\\frac{\\mathbf{a}\\cdot \\mathbf{b}}{\\lVert \\mathbf{a}\\rVert_2\\lVert \\mathbf{b}\\rVert_2}\\leq 1.$$\n",
        "\n",
        "This is used to define the angle between the vectors $\\mathbf{a}$ and $\\mathbf{b}$ as follows:$$\\angle(\\mathbf{a},\\mathbf{b}) = \\cos^{-1}\\left(\\frac{\\mathbf{a}\\cdot \\mathbf{b}}{\\lVert \\mathbf{a}\\rVert_2\\lVert \\mathbf{b}\\rVert_2}\\right).$$\n",
        "\n",
        "![Angle between vectors](https://1drv.ms/i/s!AjTcbXuSD3I3hst5ofwuXeKFAdiZtw?embed=1&width=660)\n",
        "---"
      ],
      "metadata": {
        "id": "Tx6WqvqJo-Zc"
      }
    },
    {
      "cell_type": "code",
      "source": [
        "a = np.array([1, 2])\n",
        "b = np.array([2, 4])\n",
        "c = np.array([-2, 1])\n",
        "d = np.array([-1, -2])\n",
        "print(np.dot(a, b))\n",
        "print(np.dot(a, b)/(np.linalg.norm(a)*np.linalg.norm(b)))\n",
        "print(np.arccos(np.dot(a, b)/(np.linalg.norm(a)*np.linalg.norm(b))))\n",
        "print('-----')\n",
        "print(np.dot(a, c))\n",
        "print(np.dot(a, c)/(np.linalg.norm(a)*np.linalg.norm(c)))\n",
        "print(np.arccos(np.dot(a, c)/(np.linalg.norm(a)*np.linalg.norm(c))))\n",
        "print('-----')\n",
        "print(np.dot(a, d))\n",
        "print(np.dot(a, d)/(np.linalg.norm(a)*np.linalg.norm(d)))\n",
        "print(np.arccos(np.dot(a, d)/(np.linalg.norm(a)*np.linalg.norm(d))))"
      ],
      "metadata": {
        "id": "wy85IbizLfi5",
        "colab": {
          "base_uri": "https://localhost:8080/"
        },
        "outputId": "c5a46042-3454-4efc-9564-141b143d65e3"
      },
      "execution_count": 54,
      "outputs": [
        {
          "output_type": "stream",
          "name": "stdout",
          "text": [
            "10\n",
            "0.9999999999999998\n",
            "2.1073424255447017e-08\n",
            "-----\n",
            "0\n",
            "0.0\n",
            "1.5707963267948966\n",
            "-----\n",
            "-5\n",
            "-0.9999999999999998\n",
            "3.1415926325163688\n"
          ]
        }
      ]
    },
    {
      "cell_type": "markdown",
      "source": [
        "---\n",
        "\n",
        "Mean-centering, variance, and covariance\n",
        "\n",
        "---"
      ],
      "metadata": {
        "id": "ZBZRascuL6W3"
      }
    },
    {
      "cell_type": "code",
      "source": [
        "## Simulate a patient dataset\n",
        "#np.random.seed(100)\n",
        "nsamples = 100\n",
        "df = pd.DataFrame({'Heart Rate (BPM)' : np.round(np.random.normal(74, 4, nsamples))})\n",
        "df['Blood Pressure (mm Hg)'] = 1.6*df['Heart Rate (BPM)']+np.round(np.random.normal(5, 5, nsamples))\n",
        "print(df)"
      ],
      "metadata": {
        "id": "aAVASM6fo_oU",
        "colab": {
          "base_uri": "https://localhost:8080/"
        },
        "outputId": "91c28a44-32df-4ee7-8ae3-7fefe0c23fd3"
      },
      "execution_count": 55,
      "outputs": [
        {
          "output_type": "stream",
          "name": "stdout",
          "text": [
            "    Heart Rate (BPM)  Blood Pressure (mm Hg)\n",
            "0               72.0                   118.2\n",
            "1               72.0                   129.2\n",
            "2               74.0                   121.4\n",
            "3               74.0                   123.4\n",
            "4               69.0                   118.4\n",
            "..               ...                     ...\n",
            "95              77.0                   125.2\n",
            "96              73.0                   117.8\n",
            "97              74.0                   123.4\n",
            "98              76.0                   122.6\n",
            "99              72.0                   124.2\n",
            "\n",
            "[100 rows x 2 columns]\n"
          ]
        }
      ]
    },
    {
      "cell_type": "code",
      "source": [
        "#a_mc\n",
        "df['HR Mean-Centered'] = a_mc\n",
        "df['BP Mean-Centered'] = b_mc\n",
        "df.head(5)"
      ],
      "metadata": {
        "id": "OLcQbV6OsMuN",
        "colab": {
          "base_uri": "https://localhost:8080/",
          "height": 206
        },
        "outputId": "93210083-7f2a-4e5a-b0e6-8e1cba92899a"
      },
      "execution_count": 56,
      "outputs": [
        {
          "output_type": "execute_result",
          "data": {
            "text/plain": [
              "   Heart Rate (BPM)  Blood Pressure (mm Hg)  HR Mean-Centered  \\\n",
              "0              72.0                   118.2              6.05   \n",
              "1              72.0                   129.2             -0.95   \n",
              "2              74.0                   121.4             -5.95   \n",
              "3              74.0                   123.4             -0.95   \n",
              "4              69.0                   118.4              2.05   \n",
              "\n",
              "   BP Mean-Centered  \n",
              "0             11.09  \n",
              "1             -1.11  \n",
              "2             -8.11  \n",
              "3             -2.11  \n",
              "4              9.69  "
            ],
            "text/html": [
              "\n",
              "  <div id=\"df-83454c0d-d949-4d66-baa4-e1830215f3bb\" class=\"colab-df-container\">\n",
              "    <div>\n",
              "<style scoped>\n",
              "    .dataframe tbody tr th:only-of-type {\n",
              "        vertical-align: middle;\n",
              "    }\n",
              "\n",
              "    .dataframe tbody tr th {\n",
              "        vertical-align: top;\n",
              "    }\n",
              "\n",
              "    .dataframe thead th {\n",
              "        text-align: right;\n",
              "    }\n",
              "</style>\n",
              "<table border=\"1\" class=\"dataframe\">\n",
              "  <thead>\n",
              "    <tr style=\"text-align: right;\">\n",
              "      <th></th>\n",
              "      <th>Heart Rate (BPM)</th>\n",
              "      <th>Blood Pressure (mm Hg)</th>\n",
              "      <th>HR Mean-Centered</th>\n",
              "      <th>BP Mean-Centered</th>\n",
              "    </tr>\n",
              "  </thead>\n",
              "  <tbody>\n",
              "    <tr>\n",
              "      <th>0</th>\n",
              "      <td>72.0</td>\n",
              "      <td>118.2</td>\n",
              "      <td>6.05</td>\n",
              "      <td>11.09</td>\n",
              "    </tr>\n",
              "    <tr>\n",
              "      <th>1</th>\n",
              "      <td>72.0</td>\n",
              "      <td>129.2</td>\n",
              "      <td>-0.95</td>\n",
              "      <td>-1.11</td>\n",
              "    </tr>\n",
              "    <tr>\n",
              "      <th>2</th>\n",
              "      <td>74.0</td>\n",
              "      <td>121.4</td>\n",
              "      <td>-5.95</td>\n",
              "      <td>-8.11</td>\n",
              "    </tr>\n",
              "    <tr>\n",
              "      <th>3</th>\n",
              "      <td>74.0</td>\n",
              "      <td>123.4</td>\n",
              "      <td>-0.95</td>\n",
              "      <td>-2.11</td>\n",
              "    </tr>\n",
              "    <tr>\n",
              "      <th>4</th>\n",
              "      <td>69.0</td>\n",
              "      <td>118.4</td>\n",
              "      <td>2.05</td>\n",
              "      <td>9.69</td>\n",
              "    </tr>\n",
              "  </tbody>\n",
              "</table>\n",
              "</div>\n",
              "    <div class=\"colab-df-buttons\">\n",
              "\n",
              "  <div class=\"colab-df-container\">\n",
              "    <button class=\"colab-df-convert\" onclick=\"convertToInteractive('df-83454c0d-d949-4d66-baa4-e1830215f3bb')\"\n",
              "            title=\"Convert this dataframe to an interactive table.\"\n",
              "            style=\"display:none;\">\n",
              "\n",
              "  <svg xmlns=\"http://www.w3.org/2000/svg\" height=\"24px\" viewBox=\"0 -960 960 960\">\n",
              "    <path d=\"M120-120v-720h720v720H120Zm60-500h600v-160H180v160Zm220 220h160v-160H400v160Zm0 220h160v-160H400v160ZM180-400h160v-160H180v160Zm440 0h160v-160H620v160ZM180-180h160v-160H180v160Zm440 0h160v-160H620v160Z\"/>\n",
              "  </svg>\n",
              "    </button>\n",
              "\n",
              "  <style>\n",
              "    .colab-df-container {\n",
              "      display:flex;\n",
              "      gap: 12px;\n",
              "    }\n",
              "\n",
              "    .colab-df-convert {\n",
              "      background-color: #E8F0FE;\n",
              "      border: none;\n",
              "      border-radius: 50%;\n",
              "      cursor: pointer;\n",
              "      display: none;\n",
              "      fill: #1967D2;\n",
              "      height: 32px;\n",
              "      padding: 0 0 0 0;\n",
              "      width: 32px;\n",
              "    }\n",
              "\n",
              "    .colab-df-convert:hover {\n",
              "      background-color: #E2EBFA;\n",
              "      box-shadow: 0px 1px 2px rgba(60, 64, 67, 0.3), 0px 1px 3px 1px rgba(60, 64, 67, 0.15);\n",
              "      fill: #174EA6;\n",
              "    }\n",
              "\n",
              "    .colab-df-buttons div {\n",
              "      margin-bottom: 4px;\n",
              "    }\n",
              "\n",
              "    [theme=dark] .colab-df-convert {\n",
              "      background-color: #3B4455;\n",
              "      fill: #D2E3FC;\n",
              "    }\n",
              "\n",
              "    [theme=dark] .colab-df-convert:hover {\n",
              "      background-color: #434B5C;\n",
              "      box-shadow: 0px 1px 3px 1px rgba(0, 0, 0, 0.15);\n",
              "      filter: drop-shadow(0px 1px 2px rgba(0, 0, 0, 0.3));\n",
              "      fill: #FFFFFF;\n",
              "    }\n",
              "  </style>\n",
              "\n",
              "    <script>\n",
              "      const buttonEl =\n",
              "        document.querySelector('#df-83454c0d-d949-4d66-baa4-e1830215f3bb button.colab-df-convert');\n",
              "      buttonEl.style.display =\n",
              "        google.colab.kernel.accessAllowed ? 'block' : 'none';\n",
              "\n",
              "      async function convertToInteractive(key) {\n",
              "        const element = document.querySelector('#df-83454c0d-d949-4d66-baa4-e1830215f3bb');\n",
              "        const dataTable =\n",
              "          await google.colab.kernel.invokeFunction('convertToInteractive',\n",
              "                                                    [key], {});\n",
              "        if (!dataTable) return;\n",
              "\n",
              "        const docLinkHtml = 'Like what you see? Visit the ' +\n",
              "          '<a target=\"_blank\" href=https://colab.research.google.com/notebooks/data_table.ipynb>data table notebook</a>'\n",
              "          + ' to learn more about interactive tables.';\n",
              "        element.innerHTML = '';\n",
              "        dataTable['output_type'] = 'display_data';\n",
              "        await google.colab.output.renderOutput(dataTable, element);\n",
              "        const docLink = document.createElement('div');\n",
              "        docLink.innerHTML = docLinkHtml;\n",
              "        element.appendChild(docLink);\n",
              "      }\n",
              "    </script>\n",
              "  </div>\n",
              "\n",
              "\n",
              "<div id=\"df-a0e569b5-5088-4e95-a1a0-62be5ef90479\">\n",
              "  <button class=\"colab-df-quickchart\" onclick=\"quickchart('df-a0e569b5-5088-4e95-a1a0-62be5ef90479')\"\n",
              "            title=\"Suggest charts\"\n",
              "            style=\"display:none;\">\n",
              "\n",
              "<svg xmlns=\"http://www.w3.org/2000/svg\" height=\"24px\"viewBox=\"0 0 24 24\"\n",
              "     width=\"24px\">\n",
              "    <g>\n",
              "        <path d=\"M19 3H5c-1.1 0-2 .9-2 2v14c0 1.1.9 2 2 2h14c1.1 0 2-.9 2-2V5c0-1.1-.9-2-2-2zM9 17H7v-7h2v7zm4 0h-2V7h2v10zm4 0h-2v-4h2v4z\"/>\n",
              "    </g>\n",
              "</svg>\n",
              "  </button>\n",
              "\n",
              "<style>\n",
              "  .colab-df-quickchart {\n",
              "      --bg-color: #E8F0FE;\n",
              "      --fill-color: #1967D2;\n",
              "      --hover-bg-color: #E2EBFA;\n",
              "      --hover-fill-color: #174EA6;\n",
              "      --disabled-fill-color: #AAA;\n",
              "      --disabled-bg-color: #DDD;\n",
              "  }\n",
              "\n",
              "  [theme=dark] .colab-df-quickchart {\n",
              "      --bg-color: #3B4455;\n",
              "      --fill-color: #D2E3FC;\n",
              "      --hover-bg-color: #434B5C;\n",
              "      --hover-fill-color: #FFFFFF;\n",
              "      --disabled-bg-color: #3B4455;\n",
              "      --disabled-fill-color: #666;\n",
              "  }\n",
              "\n",
              "  .colab-df-quickchart {\n",
              "    background-color: var(--bg-color);\n",
              "    border: none;\n",
              "    border-radius: 50%;\n",
              "    cursor: pointer;\n",
              "    display: none;\n",
              "    fill: var(--fill-color);\n",
              "    height: 32px;\n",
              "    padding: 0;\n",
              "    width: 32px;\n",
              "  }\n",
              "\n",
              "  .colab-df-quickchart:hover {\n",
              "    background-color: var(--hover-bg-color);\n",
              "    box-shadow: 0 1px 2px rgba(60, 64, 67, 0.3), 0 1px 3px 1px rgba(60, 64, 67, 0.15);\n",
              "    fill: var(--button-hover-fill-color);\n",
              "  }\n",
              "\n",
              "  .colab-df-quickchart-complete:disabled,\n",
              "  .colab-df-quickchart-complete:disabled:hover {\n",
              "    background-color: var(--disabled-bg-color);\n",
              "    fill: var(--disabled-fill-color);\n",
              "    box-shadow: none;\n",
              "  }\n",
              "\n",
              "  .colab-df-spinner {\n",
              "    border: 2px solid var(--fill-color);\n",
              "    border-color: transparent;\n",
              "    border-bottom-color: var(--fill-color);\n",
              "    animation:\n",
              "      spin 1s steps(1) infinite;\n",
              "  }\n",
              "\n",
              "  @keyframes spin {\n",
              "    0% {\n",
              "      border-color: transparent;\n",
              "      border-bottom-color: var(--fill-color);\n",
              "      border-left-color: var(--fill-color);\n",
              "    }\n",
              "    20% {\n",
              "      border-color: transparent;\n",
              "      border-left-color: var(--fill-color);\n",
              "      border-top-color: var(--fill-color);\n",
              "    }\n",
              "    30% {\n",
              "      border-color: transparent;\n",
              "      border-left-color: var(--fill-color);\n",
              "      border-top-color: var(--fill-color);\n",
              "      border-right-color: var(--fill-color);\n",
              "    }\n",
              "    40% {\n",
              "      border-color: transparent;\n",
              "      border-right-color: var(--fill-color);\n",
              "      border-top-color: var(--fill-color);\n",
              "    }\n",
              "    60% {\n",
              "      border-color: transparent;\n",
              "      border-right-color: var(--fill-color);\n",
              "    }\n",
              "    80% {\n",
              "      border-color: transparent;\n",
              "      border-right-color: var(--fill-color);\n",
              "      border-bottom-color: var(--fill-color);\n",
              "    }\n",
              "    90% {\n",
              "      border-color: transparent;\n",
              "      border-bottom-color: var(--fill-color);\n",
              "    }\n",
              "  }\n",
              "</style>\n",
              "\n",
              "  <script>\n",
              "    async function quickchart(key) {\n",
              "      const quickchartButtonEl =\n",
              "        document.querySelector('#' + key + ' button');\n",
              "      quickchartButtonEl.disabled = true;  // To prevent multiple clicks.\n",
              "      quickchartButtonEl.classList.add('colab-df-spinner');\n",
              "      try {\n",
              "        const charts = await google.colab.kernel.invokeFunction(\n",
              "            'suggestCharts', [key], {});\n",
              "      } catch (error) {\n",
              "        console.error('Error during call to suggestCharts:', error);\n",
              "      }\n",
              "      quickchartButtonEl.classList.remove('colab-df-spinner');\n",
              "      quickchartButtonEl.classList.add('colab-df-quickchart-complete');\n",
              "    }\n",
              "    (() => {\n",
              "      let quickchartButtonEl =\n",
              "        document.querySelector('#df-a0e569b5-5088-4e95-a1a0-62be5ef90479 button');\n",
              "      quickchartButtonEl.style.display =\n",
              "        google.colab.kernel.accessAllowed ? 'block' : 'none';\n",
              "    })();\n",
              "  </script>\n",
              "</div>\n",
              "\n",
              "    </div>\n",
              "  </div>\n"
            ],
            "application/vnd.google.colaboratory.intrinsic+json": {
              "type": "dataframe",
              "variable_name": "df",
              "summary": "{\n  \"name\": \"df\",\n  \"rows\": 100,\n  \"fields\": [\n    {\n      \"column\": \"Heart Rate (BPM)\",\n      \"properties\": {\n        \"dtype\": \"number\",\n        \"std\": 3.542013352015855,\n        \"min\": 64.0,\n        \"max\": 81.0,\n        \"num_unique_values\": 18,\n        \"samples\": [\n          72.0,\n          74.0,\n          70.0\n        ],\n        \"semantic_type\": \"\",\n        \"description\": \"\"\n      }\n    },\n    {\n      \"column\": \"Blood Pressure (mm Hg)\",\n      \"properties\": {\n        \"dtype\": \"number\",\n        \"std\": 7.110190723265596,\n        \"min\": 98.60000000000001,\n        \"max\": 136.6,\n        \"num_unique_values\": 69,\n        \"samples\": [\n          123.0,\n          118.2,\n          106.80000000000001\n        ],\n        \"semantic_type\": \"\",\n        \"description\": \"\"\n      }\n    },\n    {\n      \"column\": \"HR Mean-Centered\",\n      \"properties\": {\n        \"dtype\": \"number\",\n        \"std\": 3.952687360990922,\n        \"min\": -8.950000000000003,\n        \"max\": 10.049999999999997,\n        \"num_unique_values\": 19,\n        \"samples\": [\n          6.049999999999997,\n          -2.950000000000003,\n          1.0499999999999972\n        ],\n        \"semantic_type\": \"\",\n        \"description\": \"\"\n      }\n    },\n    {\n      \"column\": \"BP Mean-Centered\",\n      \"properties\": {\n        \"dtype\": \"number\",\n        \"std\": 8.631461128460304,\n        \"min\": -19.310000000000016,\n        \"max\": 17.48999999999998,\n        \"num_unique_values\": 72,\n        \"samples\": [\n          9.689999999999998,\n          7.089999999999975,\n          6.689999999999998\n        ],\n        \"semantic_type\": \"\",\n        \"description\": \"\"\n      }\n    }\n  ]\n}"
            }
          },
          "metadata": {},
          "execution_count": 56
        }
      ]
    },
    {
      "cell_type": "code",
      "source": [
        "np.dot(a_mc, b_mc) # Covariance between HR and BP\n",
        "np.dot(a_mc, a_mc) # Covariance between HR and HR (variance of HR)"
      ],
      "metadata": {
        "id": "DCRK2CtT8HbX",
        "colab": {
          "base_uri": "https://localhost:8080/"
        },
        "outputId": "14796b37-fa8f-4c14-dfb7-21dda0b247b7"
      },
      "execution_count": 57,
      "outputs": [
        {
          "output_type": "execute_result",
          "data": {
            "text/plain": [
              "1546.7499999999998"
            ]
          },
          "metadata": {},
          "execution_count": 57
        }
      ]
    },
    {
      "cell_type": "code",
      "source": [
        "# Vector of heart rate and blood pressure\n",
        "a = df['Heart Rate (BPM)']\n",
        "b = df['Blood Pressure (mm Hg)']\n",
        "\n",
        "# Mean-centered heart rate and blood pressure vectors\n",
        "a_mc = a - np.mean(a)\n",
        "b_mc = b - np.mean(b)\n",
        "# Covariance between a and b\n",
        "print(np.dot(a_mc, b_mc))\n",
        "# Correlation coefficient\n",
        "print(np.dot(a_mc, b_mc) / (np.linalg.norm(a_mc) * np.linalg.norm(b_mc)))\n",
        "print('---------------------')\n",
        "\n",
        "# Variance of the heart rates (BPM^2)\n",
        "print(np.mean((a-np.mean(a))**2))\n",
        "# Standard deviation of the heart rates (BPM)\n",
        "print(np.sqrt(np.mean((a-np.mean(a))**2)))\n",
        "print('---------------------')\n",
        "\n",
        "# Scatter plot between heart rate and blood pressure vectors\n",
        "fig, ax = plt.subplots(1, 1, figsize = (4, 4))\n",
        "ax.scatter(a, b, marker = 'o', color = 'blue', s = 4.0)\n",
        "#ax.scatter(a_mc, b_mc, marker = 'o', color = 'red', s = 4.0)\n",
        "ax.set_xlabel('Heart Rate (BPM)')\n",
        "ax.set_ylabel('Blood Pressure (mm Hg)')\n",
        "ax.set_title('Heart Rate vs. Blood Pressure');"
      ],
      "metadata": {
        "id": "_V2iYc7LpUbh",
        "colab": {
          "base_uri": "https://localhost:8080/",
          "height": 514
        },
        "outputId": "8e9ccdf0-0bcb-4a8c-a1d1-2a46500dc98d"
      },
      "execution_count": 58,
      "outputs": [
        {
          "output_type": "stream",
          "name": "stdout",
          "text": [
            "1969.184\n",
            "0.7898046010986876\n",
            "---------------------\n",
            "12.420399999999999\n",
            "3.5242587873196825\n",
            "---------------------\n"
          ]
        },
        {
          "output_type": "display_data",
          "data": {
            "text/plain": [
              "<Figure size 400x400 with 1 Axes>"
            ],
            "image/png": "[encoded data removed]"
          },
          "metadata": {}
        }
      ]
    },
    {
      "cell_type": "markdown",
      "source": [
        "---\n",
        "\n",
        "**Projection of vectors and its relationship to dot product**\n",
        "\n",
        "The projection of a sample vector $\\mathbf{x}^{(i)}$ along the direction specified by a vector $\\mathbf{v}$ is intuitively a measure of how much of sample $\\mathbf{x}^{(i)}$ is contained along the direction given by $v\\mathbf{v}.$\n",
        "\n",
        "![Vector projection](https://onedrive.live.com/embed?resid=37720F927B6DDC34%21100196&authkey=%21AIQr3fMEJZChQNI&width=256)\n",
        "\n",
        "We can derive an expression for the projection $\\text{proj}_\\mathbf{v}\\left(\\mathbf{x}^{(i)} \\right )$ as follows:\n",
        "\n",
        "$\\begin{align*}\n",
        "\\begin{cases}\\text{proj}_\\mathbf{v}\\left(\\mathbf{x}^{(i)} \\right )\n",
        " &= c\\mathbf{v}, \\text{for some unknown constant }c \\text{ (why?)}\\\\\\mathbf{y}&=\\mathbf{x}^{(i)}-\\text{proj}_\\mathbf{v}\\left(\\mathbf{x}^{(i)} \\right)\\text{ (why?)}\\\\\\mathbf{y}\\cdot \\mathbf{v} &= 0\\text{ (why?)}\\end{cases}\n",
        "\\end{align*}$\n",
        "$\\begin{align*}\\Rightarrow\\left(\\mathbf{x}^{(i)}-\\text{proj}_\\mathbf{v}\\left(\\mathbf{x}^{(i)} \\right)\\right)\\cdot \\mathbf{v} &= 0\\\\\\Rightarrow \\left(\\mathbf{x}^{(i)}-c\\mathbf{v} \\right )\\cdot \\mathbf{v} &=0\\\\\\Rightarrow \\mathbf{x}^{(i)}\\cdot \\mathbf{v}-c(\\mathbf{v}\\cdot \\mathbf{v})&=0\\\\\\Rightarrow c &=\\dfrac{\\mathbf{x}^{(i)}\\cdot \\mathbf{v}}{\\mathbf{v}\\cdot \\mathbf{v}}\\\\\\Rightarrow \\text{proj}_\\mathbf{v}\\left(\\mathbf{x}^{(i)} \\right ) &= c\\mathbf{v} = \\left(\\dfrac{\\mathbf{x}^{(i)}\\cdot \\mathbf{v}}{\\mathbf{v}\\cdot \\mathbf{v}}\\right)\\mathbf{v} = \\left(\\dfrac{\\mathbf{x}^{(i)}\\cdot v}{\\lVert \\mathbf{v}\\rVert^2}\\right)\\mathbf{v} \\\\&= \\underbrace{\\left(\\dfrac{\\mathbf{x}^{(i)}\\cdot \\mathbf{v}}{\\lVert \\mathbf{v}\\rVert}\\right)}_{\\text{shadow length}}\\,\\underbrace{\\dfrac{\\mathbf{v}}{\\lVert \\mathbf{v}\\rVert}}_{\\text{direction}}. \\end{align*}$\n",
        "\n",
        "---"
      ],
      "metadata": {
        "id": "C6xSd4hyr0ti"
      }
    },
    {
      "cell_type": "code",
      "source": [
        "## Scalar projection of 0th patient onto a direction v\n",
        "print(X[0])\n",
        "v = np.array([1, 0, 0])\n",
        "print(np.dot(X[0], v) / np.linalg.norm(v))\n",
        "v = np.array([0, 1, 0])\n",
        "print(np.dot(X[0], v) / np.linalg.norm(v))\n",
        "v = np.array([1, 1, 1])\n",
        "print(np.dot(X[0], v) / np.linalg.norm(v))\n",
        "v = np.array([-1, -1, -1])\n",
        "print(np.dot(X[0], v) / np.linalg.norm(v))"
      ],
      "metadata": {
        "id": "ODKXD_zEVYf4",
        "colab": {
          "base_uri": "https://localhost:8080/"
        },
        "outputId": "ebd064ca-8470-428f-ab6c-59594c7f33d7"
      },
      "execution_count": 59,
      "outputs": [
        {
          "output_type": "stream",
          "name": "stdout",
          "text": [
            "[ 76. 126.  38.]\n",
            "76.0\n",
            "126.0\n",
            "138.5640646055102\n",
            "-138.5640646055102\n"
          ]
        }
      ]
    },
    {
      "cell_type": "markdown",
      "source": [
        "---\n",
        "\n",
        "A matrix-vector product is simply a sequence of dot products of the rows of matrix (seen as vectors) with the vector:\n",
        "\n",
        "![Matrix-vector product](https://1drv.ms/i/s!AjTcbXuSD3I3hst6C_XOhdee1oi59A?embed=1&width=660)\n",
        "\n",
        "This can be used to calculate the projection of all patients in matrix $\\mathbf{X}$ onto a direction $\\mathbf{v}.$\n",
        "\n",
        "---"
      ],
      "metadata": {
        "id": "nUXiOVLTQE0L"
      }
    },
    {
      "cell_type": "code",
      "source": [
        "## Scalar projection of all patients onto a direction v\n",
        "v = np.array([1, 0, 0])\n",
        "print((1/np.linalg.norm(v)) * np.dot(X, v))\n",
        "v = np.array([0, 1, 0])\n",
        "print((1/np.linalg.norm(v)) * np.dot(X, v))\n",
        "v = np.array([1, 1, 1])\n",
        "print((1/np.linalg.norm(v)) * np.dot(X, v))\n",
        "v = np.array([-1, -1, -1])\n",
        "print((1/np.linalg.norm(v)) * np.dot(X, v))"
      ],
      "metadata": {
        "id": "hGzRCudzWrjk",
        "colab": {
          "base_uri": "https://localhost:8080/"
        },
        "outputId": "e59a3df8-a24f-4049-8615-3102d0b1f7e8"
      },
      "execution_count": 60,
      "outputs": [
        {
          "output_type": "stream",
          "name": "stdout",
          "text": [
            "[76. 74. 72. 78.]\n",
            "[126. 120. 118. 136.]\n",
            "[138.56406461 133.94526245 131.34718624 144.91491757]\n",
            "[-138.56406461 -133.94526245 -131.34718624 -144.91491757]\n"
          ]
        }
      ]
    },
    {
      "cell_type": "markdown",
      "source": [
        "---\n",
        "\n",
        "Load food-texture data\n",
        "\n",
        "---"
      ],
      "metadata": {
        "id": "wAW4l69QsTza"
      }
    },
    {
      "cell_type": "code",
      "source": [
        "## Load data\n",
        "FILE = DATA_DIR + 'food-texture.csv'\n",
        "df_food = pd.read_csv(FILE, index_col = 0)\n",
        "df_food.head()"
      ],
      "metadata": {
        "id": "Io6fXPHqsNFJ",
        "colab": {
          "base_uri": "https://localhost:8080/",
          "height": 206
        },
        "outputId": "dfba5d0e-5dbc-4986-cb1c-8e2864e98113"
      },
      "execution_count": 61,
      "outputs": [
        {
          "output_type": "execute_result",
          "data": {
            "text/plain": [
              "       Oil  Density  Crispy  Fracture  Hardness\n",
              "B110  16.5     2955      10        23        97\n",
              "B136  17.7     2660      14         9       139\n",
              "B171  16.2     2870      12        17       143\n",
              "B192  16.7     2920      10        31        95\n",
              "B225  16.3     2975      11        26       143"
            ],
            "text/html": [
              "\n",
              "  <div id=\"df-99f2fc5f-cc6a-450c-8bd9-178cbe4caa81\" class=\"colab-df-container\">\n",
              "    <div>\n",
              "<style scoped>\n",
              "    .dataframe tbody tr th:only-of-type {\n",
              "        vertical-align: middle;\n",
              "    }\n",
              "\n",
              "    .dataframe tbody tr th {\n",
              "        vertical-align: top;\n",
              "    }\n",
              "\n",
              "    .dataframe thead th {\n",
              "        text-align: right;\n",
              "    }\n",
              "</style>\n",
              "<table border=\"1\" class=\"dataframe\">\n",
              "  <thead>\n",
              "    <tr style=\"text-align: right;\">\n",
              "      <th></th>\n",
              "      <th>Oil</th>\n",
              "      <th>Density</th>\n",
              "      <th>Crispy</th>\n",
              "      <th>Fracture</th>\n",
              "      <th>Hardness</th>\n",
              "    </tr>\n",
              "  </thead>\n",
              "  <tbody>\n",
              "    <tr>\n",
              "      <th>B110</th>\n",
              "      <td>16.5</td>\n",
              "      <td>2955</td>\n",
              "      <td>10</td>\n",
              "      <td>23</td>\n",
              "      <td>97</td>\n",
              "    </tr>\n",
              "    <tr>\n",
              "      <th>B136</th>\n",
              "      <td>17.7</td>\n",
              "      <td>2660</td>\n",
              "      <td>14</td>\n",
              "      <td>9</td>\n",
              "      <td>139</td>\n",
              "    </tr>\n",
              "    <tr>\n",
              "      <th>B171</th>\n",
              "      <td>16.2</td>\n",
              "      <td>2870</td>\n",
              "      <td>12</td>\n",
              "      <td>17</td>\n",
              "      <td>143</td>\n",
              "    </tr>\n",
              "    <tr>\n",
              "      <th>B192</th>\n",
              "      <td>16.7</td>\n",
              "      <td>2920</td>\n",
              "      <td>10</td>\n",
              "      <td>31</td>\n",
              "      <td>95</td>\n",
              "    </tr>\n",
              "    <tr>\n",
              "      <th>B225</th>\n",
              "      <td>16.3</td>\n",
              "      <td>2975</td>\n",
              "      <td>11</td>\n",
              "      <td>26</td>\n",
              "      <td>143</td>\n",
              "    </tr>\n",
              "  </tbody>\n",
              "</table>\n",
              "</div>\n",
              "    <div class=\"colab-df-buttons\">\n",
              "\n",
              "  <div class=\"colab-df-container\">\n",
              "    <button class=\"colab-df-convert\" onclick=\"convertToInteractive('df-99f2fc5f-cc6a-450c-8bd9-178cbe4caa81')\"\n",
              "            title=\"Convert this dataframe to an interactive table.\"\n",
              "            style=\"display:none;\">\n",
              "\n",
              "  <svg xmlns=\"http://www.w3.org/2000/svg\" height=\"24px\" viewBox=\"0 -960 960 960\">\n",
              "    <path d=\"M120-120v-720h720v720H120Zm60-500h600v-160H180v160Zm220 220h160v-160H400v160Zm0 220h160v-160H400v160ZM180-400h160v-160H180v160Zm440 0h160v-160H620v160ZM180-180h160v-160H180v160Zm440 0h160v-160H620v160Z\"/>\n",
              "  </svg>\n",
              "    </button>\n",
              "\n",
              "  <style>\n",
              "    .colab-df-container {\n",
              "      display:flex;\n",
              "      gap: 12px;\n",
              "    }\n",
              "\n",
              "    .colab-df-convert {\n",
              "      background-color: #E8F0FE;\n",
              "      border: none;\n",
              "      border-radius: 50%;\n",
              "      cursor: pointer;\n",
              "      display: none;\n",
              "      fill: #1967D2;\n",
              "      height: 32px;\n",
              "      padding: 0 0 0 0;\n",
              "      width: 32px;\n",
              "    }\n",
              "\n",
              "    .colab-df-convert:hover {\n",
              "      background-color: #E2EBFA;\n",
              "      box-shadow: 0px 1px 2px rgba(60, 64, 67, 0.3), 0px 1px 3px 1px rgba(60, 64, 67, 0.15);\n",
              "      fill: #174EA6;\n",
              "    }\n",
              "\n",
              "    .colab-df-buttons div {\n",
              "      margin-bottom: 4px;\n",
              "    }\n",
              "\n",
              "    [theme=dark] .colab-df-convert {\n",
              "      background-color: #3B4455;\n",
              "      fill: #D2E3FC;\n",
              "    }\n",
              "\n",
              "    [theme=dark] .colab-df-convert:hover {\n",
              "      background-color: #434B5C;\n",
              "      box-shadow: 0px 1px 3px 1px rgba(0, 0, 0, 0.15);\n",
              "      filter: drop-shadow(0px 1px 2px rgba(0, 0, 0, 0.3));\n",
              "      fill: #FFFFFF;\n",
              "    }\n",
              "  </style>\n",
              "\n",
              "    <script>\n",
              "      const buttonEl =\n",
              "        document.querySelector('#df-99f2fc5f-cc6a-450c-8bd9-178cbe4caa81 button.colab-df-convert');\n",
              "      buttonEl.style.display =\n",
              "        google.colab.kernel.accessAllowed ? 'block' : 'none';\n",
              "\n",
              "      async function convertToInteractive(key) {\n",
              "        const element = document.querySelector('#df-99f2fc5f-cc6a-450c-8bd9-178cbe4caa81');\n",
              "        const dataTable =\n",
              "          await google.colab.kernel.invokeFunction('convertToInteractive',\n",
              "                                                    [key], {});\n",
              "        if (!dataTable) return;\n",
              "\n",
              "        const docLinkHtml = 'Like what you see? Visit the ' +\n",
              "          '<a target=\"_blank\" href=https://colab.research.google.com/notebooks/data_table.ipynb>data table notebook</a>'\n",
              "          + ' to learn more about interactive tables.';\n",
              "        element.innerHTML = '';\n",
              "        dataTable['output_type'] = 'display_data';\n",
              "        await google.colab.output.renderOutput(dataTable, element);\n",
              "        const docLink = document.createElement('div');\n",
              "        docLink.innerHTML = docLinkHtml;\n",
              "        element.appendChild(docLink);\n",
              "      }\n",
              "    </script>\n",
              "  </div>\n",
              "\n",
              "\n",
              "<div id=\"df-0ce8b5b5-14c1-44cb-8620-e5a30f0e8d33\">\n",
              "  <button class=\"colab-df-quickchart\" onclick=\"quickchart('df-0ce8b5b5-14c1-44cb-8620-e5a30f0e8d33')\"\n",
              "            title=\"Suggest charts\"\n",
              "            style=\"display:none;\">\n",
              "\n",
              "<svg xmlns=\"http://www.w3.org/2000/svg\" height=\"24px\"viewBox=\"0 0 24 24\"\n",
              "     width=\"24px\">\n",
              "    <g>\n",
              "        <path d=\"M19 3H5c-1.1 0-2 .9-2 2v14c0 1.1.9 2 2 2h14c1.1 0 2-.9 2-2V5c0-1.1-.9-2-2-2zM9 17H7v-7h2v7zm4 0h-2V7h2v10zm4 0h-2v-4h2v4z\"/>\n",
              "    </g>\n",
              "</svg>\n",
              "  </button>\n",
              "\n",
              "<style>\n",
              "  .colab-df-quickchart {\n",
              "      --bg-color: #E8F0FE;\n",
              "      --fill-color: #1967D2;\n",
              "      --hover-bg-color: #E2EBFA;\n",
              "      --hover-fill-color: #174EA6;\n",
              "      --disabled-fill-color: #AAA;\n",
              "      --disabled-bg-color: #DDD;\n",
              "  }\n",
              "\n",
              "  [theme=dark] .colab-df-quickchart {\n",
              "      --bg-color: #3B4455;\n",
              "      --fill-color: #D2E3FC;\n",
              "      --hover-bg-color: #434B5C;\n",
              "      --hover-fill-color: #FFFFFF;\n",
              "      --disabled-bg-color: #3B4455;\n",
              "      --disabled-fill-color: #666;\n",
              "  }\n",
              "\n",
              "  .colab-df-quickchart {\n",
              "    background-color: var(--bg-color);\n",
              "    border: none;\n",
              "    border-radius: 50%;\n",
              "    cursor: pointer;\n",
              "    display: none;\n",
              "    fill: var(--fill-color);\n",
              "    height: 32px;\n",
              "    padding: 0;\n",
              "    width: 32px;\n",
              "  }\n",
              "\n",
              "  .colab-df-quickchart:hover {\n",
              "    background-color: var(--hover-bg-color);\n",
              "    box-shadow: 0 1px 2px rgba(60, 64, 67, 0.3), 0 1px 3px 1px rgba(60, 64, 67, 0.15);\n",
              "    fill: var(--button-hover-fill-color);\n",
              "  }\n",
              "\n",
              "  .colab-df-quickchart-complete:disabled,\n",
              "  .colab-df-quickchart-complete:disabled:hover {\n",
              "    background-color: var(--disabled-bg-color);\n",
              "    fill: var(--disabled-fill-color);\n",
              "    box-shadow: none;\n",
              "  }\n",
              "\n",
              "  .colab-df-spinner {\n",
              "    border: 2px solid var(--fill-color);\n",
              "    border-color: transparent;\n",
              "    border-bottom-color: var(--fill-color);\n",
              "    animation:\n",
              "      spin 1s steps(1) infinite;\n",
              "  }\n",
              "\n",
              "  @keyframes spin {\n",
              "    0% {\n",
              "      border-color: transparent;\n",
              "      border-bottom-color: var(--fill-color);\n",
              "      border-left-color: var(--fill-color);\n",
              "    }\n",
              "    20% {\n",
              "      border-color: transparent;\n",
              "      border-left-color: var(--fill-color);\n",
              "      border-top-color: var(--fill-color);\n",
              "    }\n",
              "    30% {\n",
              "      border-color: transparent;\n",
              "      border-left-color: var(--fill-color);\n",
              "      border-top-color: var(--fill-color);\n",
              "      border-right-color: var(--fill-color);\n",
              "    }\n",
              "    40% {\n",
              "      border-color: transparent;\n",
              "      border-right-color: var(--fill-color);\n",
              "      border-top-color: var(--fill-color);\n",
              "    }\n",
              "    60% {\n",
              "      border-color: transparent;\n",
              "      border-right-color: var(--fill-color);\n",
              "    }\n",
              "    80% {\n",
              "      border-color: transparent;\n",
              "      border-right-color: var(--fill-color);\n",
              "      border-bottom-color: var(--fill-color);\n",
              "    }\n",
              "    90% {\n",
              "      border-color: transparent;\n",
              "      border-bottom-color: var(--fill-color);\n",
              "    }\n",
              "  }\n",
              "</style>\n",
              "\n",
              "  <script>\n",
              "    async function quickchart(key) {\n",
              "      const quickchartButtonEl =\n",
              "        document.querySelector('#' + key + ' button');\n",
              "      quickchartButtonEl.disabled = true;  // To prevent multiple clicks.\n",
              "      quickchartButtonEl.classList.add('colab-df-spinner');\n",
              "      try {\n",
              "        const charts = await google.colab.kernel.invokeFunction(\n",
              "            'suggestCharts', [key], {});\n",
              "      } catch (error) {\n",
              "        console.error('Error during call to suggestCharts:', error);\n",
              "      }\n",
              "      quickchartButtonEl.classList.remove('colab-df-spinner');\n",
              "      quickchartButtonEl.classList.add('colab-df-quickchart-complete');\n",
              "    }\n",
              "    (() => {\n",
              "      let quickchartButtonEl =\n",
              "        document.querySelector('#df-0ce8b5b5-14c1-44cb-8620-e5a30f0e8d33 button');\n",
              "      quickchartButtonEl.style.display =\n",
              "        google.colab.kernel.accessAllowed ? 'block' : 'none';\n",
              "    })();\n",
              "  </script>\n",
              "</div>\n",
              "\n",
              "    </div>\n",
              "  </div>\n"
            ],
            "application/vnd.google.colaboratory.intrinsic+json": {
              "type": "dataframe",
              "variable_name": "df_food",
              "summary": "{\n  \"name\": \"df_food\",\n  \"rows\": 50,\n  \"fields\": [\n    {\n      \"column\": \"Oil\",\n      \"properties\": {\n        \"dtype\": \"number\",\n        \"std\": 1.5920068197987451,\n        \"min\": 13.7,\n        \"max\": 21.2,\n        \"num_unique_values\": 33,\n        \"samples\": [\n          15.1,\n          17.3,\n          21.2\n        ],\n        \"semantic_type\": \"\",\n        \"description\": \"\"\n      }\n    },\n    {\n      \"column\": \"Density\",\n      \"properties\": {\n        \"dtype\": \"number\",\n        \"std\": 124,\n        \"min\": 2570,\n        \"max\": 3125,\n        \"num_unique_values\": 38,\n        \"samples\": [\n          3100,\n          2925,\n          2975\n        ],\n        \"semantic_type\": \"\",\n        \"description\": \"\"\n      }\n    },\n    {\n      \"column\": \"Crispy\",\n      \"properties\": {\n        \"dtype\": \"number\",\n        \"std\": 1,\n        \"min\": 7,\n        \"max\": 15,\n        \"num_unique_values\": 9,\n        \"samples\": [\n          8,\n          14,\n          9\n        ],\n        \"semantic_type\": \"\",\n        \"description\": \"\"\n      }\n    },\n    {\n      \"column\": \"Fracture\",\n      \"properties\": {\n        \"dtype\": \"number\",\n        \"std\": 5,\n        \"min\": 9,\n        \"max\": 33,\n        \"num_unique_values\": 22,\n        \"samples\": [\n          23,\n          10,\n          18\n        ],\n        \"semantic_type\": \"\",\n        \"description\": \"\"\n      }\n    },\n    {\n      \"column\": \"Hardness\",\n      \"properties\": {\n        \"dtype\": \"number\",\n        \"std\": 31,\n        \"min\": 63,\n        \"max\": 192,\n        \"num_unique_values\": 41,\n        \"samples\": [\n          129,\n          65,\n          132\n        ],\n        \"semantic_type\": \"\",\n        \"description\": \"\"\n      }\n    }\n  ]\n}"
            }
          },
          "metadata": {},
          "execution_count": 61
        }
      ]
    },
    {
      "cell_type": "markdown",
      "source": [
        "---\n",
        "\n",
        "Add a new column called \"Crispylevel\" to dataframe based on low (<= 11) or high (> 11) Crispy values\n",
        "\n",
        "---"
      ],
      "metadata": {
        "id": "cn76nUzW0hKR"
      }
    },
    {
      "cell_type": "code",
      "source": [
        "df_food['Crispylevel'] = df_food['Crispy'].apply(lambda x: 'low' if x <= 10 else 'high')\n",
        "df_food.head(5)"
      ],
      "metadata": {
        "id": "KfdLPe1u0yiq",
        "colab": {
          "base_uri": "https://localhost:8080/",
          "height": 206
        },
        "outputId": "c414a889-7722-40c3-9608-24bad4bf4556"
      },
      "execution_count": 62,
      "outputs": [
        {
          "output_type": "execute_result",
          "data": {
            "text/plain": [
              "       Oil  Density  Crispy  Fracture  Hardness Crispylevel\n",
              "B110  16.5     2955      10        23        97         low\n",
              "B136  17.7     2660      14         9       139        high\n",
              "B171  16.2     2870      12        17       143        high\n",
              "B192  16.7     2920      10        31        95         low\n",
              "B225  16.3     2975      11        26       143        high"
            ],
            "text/html": [
              "\n",
              "  <div id=\"df-00a964b7-2678-4498-8843-bd139899e8f6\" class=\"colab-df-container\">\n",
              "    <div>\n",
              "<style scoped>\n",
              "    .dataframe tbody tr th:only-of-type {\n",
              "        vertical-align: middle;\n",
              "    }\n",
              "\n",
              "    .dataframe tbody tr th {\n",
              "        vertical-align: top;\n",
              "    }\n",
              "\n",
              "    .dataframe thead th {\n",
              "        text-align: right;\n",
              "    }\n",
              "</style>\n",
              "<table border=\"1\" class=\"dataframe\">\n",
              "  <thead>\n",
              "    <tr style=\"text-align: right;\">\n",
              "      <th></th>\n",
              "      <th>Oil</th>\n",
              "      <th>Density</th>\n",
              "      <th>Crispy</th>\n",
              "      <th>Fracture</th>\n",
              "      <th>Hardness</th>\n",
              "      <th>Crispylevel</th>\n",
              "    </tr>\n",
              "  </thead>\n",
              "  <tbody>\n",
              "    <tr>\n",
              "      <th>B110</th>\n",
              "      <td>16.5</td>\n",
              "      <td>2955</td>\n",
              "      <td>10</td>\n",
              "      <td>23</td>\n",
              "      <td>97</td>\n",
              "      <td>low</td>\n",
              "    </tr>\n",
              "    <tr>\n",
              "      <th>B136</th>\n",
              "      <td>17.7</td>\n",
              "      <td>2660</td>\n",
              "      <td>14</td>\n",
              "      <td>9</td>\n",
              "      <td>139</td>\n",
              "      <td>high</td>\n",
              "    </tr>\n",
              "    <tr>\n",
              "      <th>B171</th>\n",
              "      <td>16.2</td>\n",
              "      <td>2870</td>\n",
              "      <td>12</td>\n",
              "      <td>17</td>\n",
              "      <td>143</td>\n",
              "      <td>high</td>\n",
              "    </tr>\n",
              "    <tr>\n",
              "      <th>B192</th>\n",
              "      <td>16.7</td>\n",
              "      <td>2920</td>\n",
              "      <td>10</td>\n",
              "      <td>31</td>\n",
              "      <td>95</td>\n",
              "      <td>low</td>\n",
              "    </tr>\n",
              "    <tr>\n",
              "      <th>B225</th>\n",
              "      <td>16.3</td>\n",
              "      <td>2975</td>\n",
              "      <td>11</td>\n",
              "      <td>26</td>\n",
              "      <td>143</td>\n",
              "      <td>high</td>\n",
              "    </tr>\n",
              "  </tbody>\n",
              "</table>\n",
              "</div>\n",
              "    <div class=\"colab-df-buttons\">\n",
              "\n",
              "  <div class=\"colab-df-container\">\n",
              "    <button class=\"colab-df-convert\" onclick=\"convertToInteractive('df-00a964b7-2678-4498-8843-bd139899e8f6')\"\n",
              "            title=\"Convert this dataframe to an interactive table.\"\n",
              "            style=\"display:none;\">\n",
              "\n",
              "  <svg xmlns=\"http://www.w3.org/2000/svg\" height=\"24px\" viewBox=\"0 -960 960 960\">\n",
              "    <path d=\"M120-120v-720h720v720H120Zm60-500h600v-160H180v160Zm220 220h160v-160H400v160Zm0 220h160v-160H400v160ZM180-400h160v-160H180v160Zm440 0h160v-160H620v160ZM180-180h160v-160H180v160Zm440 0h160v-160H620v160Z\"/>\n",
              "  </svg>\n",
              "    </button>\n",
              "\n",
              "  <style>\n",
              "    .colab-df-container {\n",
              "      display:flex;\n",
              "      gap: 12px;\n",
              "    }\n",
              "\n",
              "    .colab-df-convert {\n",
              "      background-color: #E8F0FE;\n",
              "      border: none;\n",
              "      border-radius: 50%;\n",
              "      cursor: pointer;\n",
              "      display: none;\n",
              "      fill: #1967D2;\n",
              "      height: 32px;\n",
              "      padding: 0 0 0 0;\n",
              "      width: 32px;\n",
              "    }\n",
              "\n",
              "    .colab-df-convert:hover {\n",
              "      background-color: #E2EBFA;\n",
              "      box-shadow: 0px 1px 2px rgba(60, 64, 67, 0.3), 0px 1px 3px 1px rgba(60, 64, 67, 0.15);\n",
              "      fill: #174EA6;\n",
              "    }\n",
              "\n",
              "    .colab-df-buttons div {\n",
              "      margin-bottom: 4px;\n",
              "    }\n",
              "\n",
              "    [theme=dark] .colab-df-convert {\n",
              "      background-color: #3B4455;\n",
              "      fill: #D2E3FC;\n",
              "    }\n",
              "\n",
              "    [theme=dark] .colab-df-convert:hover {\n",
              "      background-color: #434B5C;\n",
              "      box-shadow: 0px 1px 3px 1px rgba(0, 0, 0, 0.15);\n",
              "      filter: drop-shadow(0px 1px 2px rgba(0, 0, 0, 0.3));\n",
              "      fill: #FFFFFF;\n",
              "    }\n",
              "  </style>\n",
              "\n",
              "    <script>\n",
              "      const buttonEl =\n",
              "        document.querySelector('#df-00a964b7-2678-4498-8843-bd139899e8f6 button.colab-df-convert');\n",
              "      buttonEl.style.display =\n",
              "        google.colab.kernel.accessAllowed ? 'block' : 'none';\n",
              "\n",
              "      async function convertToInteractive(key) {\n",
              "        const element = document.querySelector('#df-00a964b7-2678-4498-8843-bd139899e8f6');\n",
              "        const dataTable =\n",
              "          await google.colab.kernel.invokeFunction('convertToInteractive',\n",
              "                                                    [key], {});\n",
              "        if (!dataTable) return;\n",
              "\n",
              "        const docLinkHtml = 'Like what you see? Visit the ' +\n",
              "          '<a target=\"_blank\" href=https://colab.research.google.com/notebooks/data_table.ipynb>data table notebook</a>'\n",
              "          + ' to learn more about interactive tables.';\n",
              "        element.innerHTML = '';\n",
              "        dataTable['output_type'] = 'display_data';\n",
              "        await google.colab.output.renderOutput(dataTable, element);\n",
              "        const docLink = document.createElement('div');\n",
              "        docLink.innerHTML = docLinkHtml;\n",
              "        element.appendChild(docLink);\n",
              "      }\n",
              "    </script>\n",
              "  </div>\n",
              "\n",
              "\n",
              "<div id=\"df-198053aa-b13f-43e1-8a06-811ffaf2041f\">\n",
              "  <button class=\"colab-df-quickchart\" onclick=\"quickchart('df-198053aa-b13f-43e1-8a06-811ffaf2041f')\"\n",
              "            title=\"Suggest charts\"\n",
              "            style=\"display:none;\">\n",
              "\n",
              "<svg xmlns=\"http://www.w3.org/2000/svg\" height=\"24px\"viewBox=\"0 0 24 24\"\n",
              "     width=\"24px\">\n",
              "    <g>\n",
              "        <path d=\"M19 3H5c-1.1 0-2 .9-2 2v14c0 1.1.9 2 2 2h14c1.1 0 2-.9 2-2V5c0-1.1-.9-2-2-2zM9 17H7v-7h2v7zm4 0h-2V7h2v10zm4 0h-2v-4h2v4z\"/>\n",
              "    </g>\n",
              "</svg>\n",
              "  </button>\n",
              "\n",
              "<style>\n",
              "  .colab-df-quickchart {\n",
              "      --bg-color: #E8F0FE;\n",
              "      --fill-color: #1967D2;\n",
              "      --hover-bg-color: #E2EBFA;\n",
              "      --hover-fill-color: #174EA6;\n",
              "      --disabled-fill-color: #AAA;\n",
              "      --disabled-bg-color: #DDD;\n",
              "  }\n",
              "\n",
              "  [theme=dark] .colab-df-quickchart {\n",
              "      --bg-color: #3B4455;\n",
              "      --fill-color: #D2E3FC;\n",
              "      --hover-bg-color: #434B5C;\n",
              "      --hover-fill-color: #FFFFFF;\n",
              "      --disabled-bg-color: #3B4455;\n",
              "      --disabled-fill-color: #666;\n",
              "  }\n",
              "\n",
              "  .colab-df-quickchart {\n",
              "    background-color: var(--bg-color);\n",
              "    border: none;\n",
              "    border-radius: 50%;\n",
              "    cursor: pointer;\n",
              "    display: none;\n",
              "    fill: var(--fill-color);\n",
              "    height: 32px;\n",
              "    padding: 0;\n",
              "    width: 32px;\n",
              "  }\n",
              "\n",
              "  .colab-df-quickchart:hover {\n",
              "    background-color: var(--hover-bg-color);\n",
              "    box-shadow: 0 1px 2px rgba(60, 64, 67, 0.3), 0 1px 3px 1px rgba(60, 64, 67, 0.15);\n",
              "    fill: var(--button-hover-fill-color);\n",
              "  }\n",
              "\n",
              "  .colab-df-quickchart-complete:disabled,\n",
              "  .colab-df-quickchart-complete:disabled:hover {\n",
              "    background-color: var(--disabled-bg-color);\n",
              "    fill: var(--disabled-fill-color);\n",
              "    box-shadow: none;\n",
              "  }\n",
              "\n",
              "  .colab-df-spinner {\n",
              "    border: 2px solid var(--fill-color);\n",
              "    border-color: transparent;\n",
              "    border-bottom-color: var(--fill-color);\n",
              "    animation:\n",
              "      spin 1s steps(1) infinite;\n",
              "  }\n",
              "\n",
              "  @keyframes spin {\n",
              "    0% {\n",
              "      border-color: transparent;\n",
              "      border-bottom-color: var(--fill-color);\n",
              "      border-left-color: var(--fill-color);\n",
              "    }\n",
              "    20% {\n",
              "      border-color: transparent;\n",
              "      border-left-color: var(--fill-color);\n",
              "      border-top-color: var(--fill-color);\n",
              "    }\n",
              "    30% {\n",
              "      border-color: transparent;\n",
              "      border-left-color: var(--fill-color);\n",
              "      border-top-color: var(--fill-color);\n",
              "      border-right-color: var(--fill-color);\n",
              "    }\n",
              "    40% {\n",
              "      border-color: transparent;\n",
              "      border-right-color: var(--fill-color);\n",
              "      border-top-color: var(--fill-color);\n",
              "    }\n",
              "    60% {\n",
              "      border-color: transparent;\n",
              "      border-right-color: var(--fill-color);\n",
              "    }\n",
              "    80% {\n",
              "      border-color: transparent;\n",
              "      border-right-color: var(--fill-color);\n",
              "      border-bottom-color: var(--fill-color);\n",
              "    }\n",
              "    90% {\n",
              "      border-color: transparent;\n",
              "      border-bottom-color: var(--fill-color);\n",
              "    }\n",
              "  }\n",
              "</style>\n",
              "\n",
              "  <script>\n",
              "    async function quickchart(key) {\n",
              "      const quickchartButtonEl =\n",
              "        document.querySelector('#' + key + ' button');\n",
              "      quickchartButtonEl.disabled = true;  // To prevent multiple clicks.\n",
              "      quickchartButtonEl.classList.add('colab-df-spinner');\n",
              "      try {\n",
              "        const charts = await google.colab.kernel.invokeFunction(\n",
              "            'suggestCharts', [key], {});\n",
              "      } catch (error) {\n",
              "        console.error('Error during call to suggestCharts:', error);\n",
              "      }\n",
              "      quickchartButtonEl.classList.remove('colab-df-spinner');\n",
              "      quickchartButtonEl.classList.add('colab-df-quickchart-complete');\n",
              "    }\n",
              "    (() => {\n",
              "      let quickchartButtonEl =\n",
              "        document.querySelector('#df-198053aa-b13f-43e1-8a06-811ffaf2041f button');\n",
              "      quickchartButtonEl.style.display =\n",
              "        google.colab.kernel.accessAllowed ? 'block' : 'none';\n",
              "    })();\n",
              "  </script>\n",
              "</div>\n",
              "\n",
              "    </div>\n",
              "  </div>\n"
            ],
            "application/vnd.google.colaboratory.intrinsic+json": {
              "type": "dataframe",
              "variable_name": "df_food",
              "summary": "{\n  \"name\": \"df_food\",\n  \"rows\": 50,\n  \"fields\": [\n    {\n      \"column\": \"Oil\",\n      \"properties\": {\n        \"dtype\": \"number\",\n        \"std\": 1.5920068197987451,\n        \"min\": 13.7,\n        \"max\": 21.2,\n        \"num_unique_values\": 33,\n        \"samples\": [\n          15.1,\n          17.3,\n          21.2\n        ],\n        \"semantic_type\": \"\",\n        \"description\": \"\"\n      }\n    },\n    {\n      \"column\": \"Density\",\n      \"properties\": {\n        \"dtype\": \"number\",\n        \"std\": 124,\n        \"min\": 2570,\n        \"max\": 3125,\n        \"num_unique_values\": 38,\n        \"samples\": [\n          3100,\n          2925,\n          2975\n        ],\n        \"semantic_type\": \"\",\n        \"description\": \"\"\n      }\n    },\n    {\n      \"column\": \"Crispy\",\n      \"properties\": {\n        \"dtype\": \"number\",\n        \"std\": 1,\n        \"min\": 7,\n        \"max\": 15,\n        \"num_unique_values\": 9,\n        \"samples\": [\n          8,\n          14,\n          9\n        ],\n        \"semantic_type\": \"\",\n        \"description\": \"\"\n      }\n    },\n    {\n      \"column\": \"Fracture\",\n      \"properties\": {\n        \"dtype\": \"number\",\n        \"std\": 5,\n        \"min\": 9,\n        \"max\": 33,\n        \"num_unique_values\": 22,\n        \"samples\": [\n          23,\n          10,\n          18\n        ],\n        \"semantic_type\": \"\",\n        \"description\": \"\"\n      }\n    },\n    {\n      \"column\": \"Hardness\",\n      \"properties\": {\n        \"dtype\": \"number\",\n        \"std\": 31,\n        \"min\": 63,\n        \"max\": 192,\n        \"num_unique_values\": 41,\n        \"samples\": [\n          129,\n          65,\n          132\n        ],\n        \"semantic_type\": \"\",\n        \"description\": \"\"\n      }\n    },\n    {\n      \"column\": \"Crispylevel\",\n      \"properties\": {\n        \"dtype\": \"category\",\n        \"num_unique_values\": 2,\n        \"samples\": [\n          \"high\",\n          \"low\"\n        ],\n        \"semantic_type\": \"\",\n        \"description\": \"\"\n      }\n    }\n  ]\n}"
            }
          },
          "metadata": {},
          "execution_count": 62
        }
      ]
    },
    {
      "cell_type": "code",
      "source": [
        "df_food.dtypes"
      ],
      "metadata": {
        "id": "wy1GKs-aFYc-",
        "colab": {
          "base_uri": "https://localhost:8080/",
          "height": 272
        },
        "outputId": "ab74ecc3-caa8-43d8-8f65-35707d9484aa"
      },
      "execution_count": 63,
      "outputs": [
        {
          "output_type": "execute_result",
          "data": {
            "text/plain": [
              "Oil            float64\n",
              "Density          int64\n",
              "Crispy           int64\n",
              "Fracture         int64\n",
              "Hardness         int64\n",
              "Crispylevel     object\n",
              "dtype: object"
            ],
            "text/html": [
              "<div>\n",
              "<style scoped>\n",
              "    .dataframe tbody tr th:only-of-type {\n",
              "        vertical-align: middle;\n",
              "    }\n",
              "\n",
              "    .dataframe tbody tr th {\n",
              "        vertical-align: top;\n",
              "    }\n",
              "\n",
              "    .dataframe thead th {\n",
              "        text-align: right;\n",
              "    }\n",
              "</style>\n",
              "<table border=\"1\" class=\"dataframe\">\n",
              "  <thead>\n",
              "    <tr style=\"text-align: right;\">\n",
              "      <th></th>\n",
              "      <th>0</th>\n",
              "    </tr>\n",
              "  </thead>\n",
              "  <tbody>\n",
              "    <tr>\n",
              "      <th>Oil</th>\n",
              "      <td>float64</td>\n",
              "    </tr>\n",
              "    <tr>\n",
              "      <th>Density</th>\n",
              "      <td>int64</td>\n",
              "    </tr>\n",
              "    <tr>\n",
              "      <th>Crispy</th>\n",
              "      <td>int64</td>\n",
              "    </tr>\n",
              "    <tr>\n",
              "      <th>Fracture</th>\n",
              "      <td>int64</td>\n",
              "    </tr>\n",
              "    <tr>\n",
              "      <th>Hardness</th>\n",
              "      <td>int64</td>\n",
              "    </tr>\n",
              "    <tr>\n",
              "      <th>Crispylevel</th>\n",
              "      <td>object</td>\n",
              "    </tr>\n",
              "  </tbody>\n",
              "</table>\n",
              "</div><br><label><b>dtype:</b> object</label>"
            ]
          },
          "metadata": {},
          "execution_count": 63
        }
      ]
    },
    {
      "cell_type": "code",
      "source": [
        "## Create a list of continuous and categorical column names\n",
        "continuous_cols = ['Oil', 'Density', 'Fracture', 'Hardness']\n",
        "categorical_cols = ['Crispy', 'Crispylevel']\n",
        "\n",
        "# Typecasting columns to correct types\n",
        "df_food[categorical_cols] = df_food[categorical_cols].astype('category')\n",
        "df_food[continuous_cols] = df_food[continuous_cols].astype('float64')\n",
        "\n",
        "## Print dataframe column types\n",
        "df_food.dtypes"
      ],
      "metadata": {
        "id": "99ebX4RCswUV",
        "colab": {
          "base_uri": "https://localhost:8080/",
          "height": 272
        },
        "outputId": "56b4ed7d-f4b4-4bca-83bf-77fed6742cf7"
      },
      "execution_count": 64,
      "outputs": [
        {
          "output_type": "execute_result",
          "data": {
            "text/plain": [
              "Oil             float64\n",
              "Density         float64\n",
              "Crispy         category\n",
              "Fracture        float64\n",
              "Hardness        float64\n",
              "Crispylevel    category\n",
              "dtype: object"
            ],
            "text/html": [
              "<div>\n",
              "<style scoped>\n",
              "    .dataframe tbody tr th:only-of-type {\n",
              "        vertical-align: middle;\n",
              "    }\n",
              "\n",
              "    .dataframe tbody tr th {\n",
              "        vertical-align: top;\n",
              "    }\n",
              "\n",
              "    .dataframe thead th {\n",
              "        text-align: right;\n",
              "    }\n",
              "</style>\n",
              "<table border=\"1\" class=\"dataframe\">\n",
              "  <thead>\n",
              "    <tr style=\"text-align: right;\">\n",
              "      <th></th>\n",
              "      <th>0</th>\n",
              "    </tr>\n",
              "  </thead>\n",
              "  <tbody>\n",
              "    <tr>\n",
              "      <th>Oil</th>\n",
              "      <td>float64</td>\n",
              "    </tr>\n",
              "    <tr>\n",
              "      <th>Density</th>\n",
              "      <td>float64</td>\n",
              "    </tr>\n",
              "    <tr>\n",
              "      <th>Crispy</th>\n",
              "      <td>category</td>\n",
              "    </tr>\n",
              "    <tr>\n",
              "      <th>Fracture</th>\n",
              "      <td>float64</td>\n",
              "    </tr>\n",
              "    <tr>\n",
              "      <th>Hardness</th>\n",
              "      <td>float64</td>\n",
              "    </tr>\n",
              "    <tr>\n",
              "      <th>Crispylevel</th>\n",
              "      <td>category</td>\n",
              "    </tr>\n",
              "  </tbody>\n",
              "</table>\n",
              "</div><br><label><b>dtype:</b> object</label>"
            ]
          },
          "metadata": {},
          "execution_count": 64
        }
      ]
    },
    {
      "cell_type": "markdown",
      "source": [
        "---\n",
        "\n",
        "Principal component analysis (PCA) of the dataset. Here we reduce the dimensionality to one.\n",
        "\n",
        "---"
      ],
      "metadata": {
        "id": "AzO98OkKtunl"
      }
    },
    {
      "cell_type": "code",
      "source": [
        "df_food[continuous_cols]"
      ],
      "metadata": {
        "id": "_PBTs7tGGLLH",
        "colab": {
          "base_uri": "https://localhost:8080/",
          "height": 1000
        },
        "outputId": "49f19f4f-0110-47cb-c276-e796d6bea9d3"
      },
      "execution_count": 65,
      "outputs": [
        {
          "output_type": "execute_result",
          "data": {
            "text/plain": [
              "       Oil  Density  Fracture  Hardness\n",
              "B110  16.5   2955.0      23.0      97.0\n",
              "B136  17.7   2660.0       9.0     139.0\n",
              "B171  16.2   2870.0      17.0     143.0\n",
              "B192  16.7   2920.0      31.0      95.0\n",
              "B225  16.3   2975.0      26.0     143.0\n",
              "B237  19.1   2790.0      16.0     189.0\n",
              "B261  18.4   2750.0      17.0     114.0\n",
              "B264  17.5   2770.0      26.0      63.0\n",
              "B353  15.7   2955.0      23.0     123.0\n",
              "B360  16.4   2945.0      24.0     132.0\n",
              "B366  18.0   2830.0      15.0     121.0\n",
              "B377  17.4   2835.0      18.0     172.0\n",
              "B391  18.4   2860.0      11.0     170.0\n",
              "B397  13.9   2965.0      19.0     169.0\n",
              "B404  15.8   2930.0      26.0      65.0\n",
              "B437  16.4   2770.0      16.0     183.0\n",
              "B445  18.9   2650.0      20.0     114.0\n",
              "B462  17.3   2890.0      17.0     142.0\n",
              "B485  16.7   2695.0      13.0     111.0\n",
              "B488  19.1   2755.0      10.0     140.0\n",
              "B502  13.7   3000.0      27.0     177.0\n",
              "B554  14.7   2980.0      20.0     133.0\n",
              "B556  18.1   2780.0      14.0     150.0\n",
              "B575  17.2   2705.0      27.0     113.0\n",
              "B576  18.7   2825.0      20.0     166.0\n",
              "B605  18.1   2875.0      15.0     150.0\n",
              "B612  16.6   2945.0      25.0     100.0\n",
              "B615  17.1   2920.0      25.0     123.0\n",
              "B649  17.4   2845.0      19.0     129.0\n",
              "B665  19.4   2645.0      18.0      68.0\n",
              "B674  15.9   3080.0      23.0     106.0\n",
              "B692  17.1   2825.0      28.0     131.0\n",
              "B694  15.5   3125.0      33.0      92.0\n",
              "B719  17.7   2780.0      22.0     141.0\n",
              "B727  15.9   2900.0      21.0     192.0\n",
              "B758  21.2   2570.0      13.0     105.0\n",
              "B776  19.5   2635.0      22.0     101.0\n",
              "B799  20.5   2725.0      16.0     145.0\n",
              "B836  17.0   2865.0      22.0     100.0\n",
              "B848  16.7   2975.0      26.0     105.0\n",
              "B861  16.8   2980.0      24.0     144.0\n",
              "B869  16.8   2870.0      20.0     123.0\n",
              "B876  16.3   2920.0      22.0     136.0\n",
              "B882  16.2   3100.0      27.0     140.0\n",
              "B889  18.1   2910.0      21.0     120.0\n",
              "B907  16.6   2865.0      25.0     120.0\n",
              "B911  16.4   2995.0      20.0     165.0\n",
              "B923  15.1   2925.0      29.0     118.0\n",
              "B971  21.1   2700.0      16.0     116.0\n",
              "B998  16.3   2845.0      26.0      75.0"
            ],
            "text/html": [
              "\n",
              "  <div id=\"df-98602488-bcd4-4c3c-beca-318ced88b5ab\" class=\"colab-df-container\">\n",
              "    <div>\n",
              "<style scoped>\n",
              "    .dataframe tbody tr th:only-of-type {\n",
              "        vertical-align: middle;\n",
              "    }\n",
              "\n",
              "    .dataframe tbody tr th {\n",
              "        vertical-align: top;\n",
              "    }\n",
              "\n",
              "    .dataframe thead th {\n",
              "        text-align: right;\n",
              "    }\n",
              "</style>\n",
              "<table border=\"1\" class=\"dataframe\">\n",
              "  <thead>\n",
              "    <tr style=\"text-align: right;\">\n",
              "      <th></th>\n",
              "      <th>Oil</th>\n",
              "      <th>Density</th>\n",
              "      <th>Fracture</th>\n",
              "      <th>Hardness</th>\n",
              "    </tr>\n",
              "  </thead>\n",
              "  <tbody>\n",
              "    <tr>\n",
              "      <th>B110</th>\n",
              "      <td>16.5</td>\n",
              "      <td>2955.0</td>\n",
              "      <td>23.0</td>\n",
              "      <td>97.0</td>\n",
              "    </tr>\n",
              "    <tr>\n",
              "      <th>B136</th>\n",
              "      <td>17.7</td>\n",
              "      <td>2660.0</td>\n",
              "      <td>9.0</td>\n",
              "      <td>139.0</td>\n",
              "    </tr>\n",
              "    <tr>\n",
              "      <th>B171</th>\n",
              "      <td>16.2</td>\n",
              "      <td>2870.0</td>\n",
              "      <td>17.0</td>\n",
              "      <td>143.0</td>\n",
              "    </tr>\n",
              "    <tr>\n",
              "      <th>B192</th>\n",
              "      <td>16.7</td>\n",
              "      <td>2920.0</td>\n",
              "      <td>31.0</td>\n",
              "      <td>95.0</td>\n",
              "    </tr>\n",
              "    <tr>\n",
              "      <th>B225</th>\n",
              "      <td>16.3</td>\n",
              "      <td>2975.0</td>\n",
              "      <td>26.0</td>\n",
              "      <td>143.0</td>\n",
              "    </tr>\n",
              "    <tr>\n",
              "      <th>B237</th>\n",
              "      <td>19.1</td>\n",
              "      <td>2790.0</td>\n",
              "      <td>16.0</td>\n",
              "      <td>189.0</td>\n",
              "    </tr>\n",
              "    <tr>\n",
              "      <th>B261</th>\n",
              "      <td>18.4</td>\n",
              "      <td>2750.0</td>\n",
              "      <td>17.0</td>\n",
              "      <td>114.0</td>\n",
              "    </tr>\n",
              "    <tr>\n",
              "      <th>B264</th>\n",
              "      <td>17.5</td>\n",
              "      <td>2770.0</td>\n",
              "      <td>26.0</td>\n",
              "      <td>63.0</td>\n",
              "    </tr>\n",
              "    <tr>\n",
              "      <th>B353</th>\n",
              "      <td>15.7</td>\n",
              "      <td>2955.0</td>\n",
              "      <td>23.0</td>\n",
              "      <td>123.0</td>\n",
              "    </tr>\n",
              "    <tr>\n",
              "      <th>B360</th>\n",
              "      <td>16.4</td>\n",
              "      <td>2945.0</td>\n",
              "      <td>24.0</td>\n",
              "      <td>132.0</td>\n",
              "    </tr>\n",
              "    <tr>\n",
              "      <th>B366</th>\n",
              "      <td>18.0</td>\n",
              "      <td>2830.0</td>\n",
              "      <td>15.0</td>\n",
              "      <td>121.0</td>\n",
              "    </tr>\n",
              "    <tr>\n",
              "      <th>B377</th>\n",
              "      <td>17.4</td>\n",
              "      <td>2835.0</td>\n",
              "      <td>18.0</td>\n",
              "      <td>172.0</td>\n",
              "    </tr>\n",
              "    <tr>\n",
              "      <th>B391</th>\n",
              "      <td>18.4</td>\n",
              "      <td>2860.0</td>\n",
              "      <td>11.0</td>\n",
              "      <td>170.0</td>\n",
              "    </tr>\n",
              "    <tr>\n",
              "      <th>B397</th>\n",
              "      <td>13.9</td>\n",
              "      <td>2965.0</td>\n",
              "      <td>19.0</td>\n",
              "      <td>169.0</td>\n",
              "    </tr>\n",
              "    <tr>\n",
              "      <th>B404</th>\n",
              "      <td>15.8</td>\n",
              "      <td>2930.0</td>\n",
              "      <td>26.0</td>\n",
              "      <td>65.0</td>\n",
              "    </tr>\n",
              "    <tr>\n",
              "      <th>B437</th>\n",
              "      <td>16.4</td>\n",
              "      <td>2770.0</td>\n",
              "      <td>16.0</td>\n",
              "      <td>183.0</td>\n",
              "    </tr>\n",
              "    <tr>\n",
              "      <th>B445</th>\n",
              "      <td>18.9</td>\n",
              "      <td>2650.0</td>\n",
              "      <td>20.0</td>\n",
              "      <td>114.0</td>\n",
              "    </tr>\n",
              "    <tr>\n",
              "      <th>B462</th>\n",
              "      <td>17.3</td>\n",
              "      <td>2890.0</td>\n",
              "      <td>17.0</td>\n",
              "      <td>142.0</td>\n",
              "    </tr>\n",
              "    <tr>\n",
              "      <th>B485</th>\n",
              "      <td>16.7</td>\n",
              "      <td>2695.0</td>\n",
              "      <td>13.0</td>\n",
              "      <td>111.0</td>\n",
              "    </tr>\n",
              "    <tr>\n",
              "      <th>B488</th>\n",
              "      <td>19.1</td>\n",
              "      <td>2755.0</td>\n",
              "      <td>10.0</td>\n",
              "      <td>140.0</td>\n",
              "    </tr>\n",
              "    <tr>\n",
              "      <th>B502</th>\n",
              "      <td>13.7</td>\n",
              "      <td>3000.0</td>\n",
              "      <td>27.0</td>\n",
              "      <td>177.0</td>\n",
              "    </tr>\n",
              "    <tr>\n",
              "      <th>B554</th>\n",
              "      <td>14.7</td>\n",
              "      <td>2980.0</td>\n",
              "      <td>20.0</td>\n",
              "      <td>133.0</td>\n",
              "    </tr>\n",
              "    <tr>\n",
              "      <th>B556</th>\n",
              "      <td>18.1</td>\n",
              "      <td>2780.0</td>\n",
              "      <td>14.0</td>\n",
              "      <td>150.0</td>\n",
              "    </tr>\n",
              "    <tr>\n",
              "      <th>B575</th>\n",
              "      <td>17.2</td>\n",
              "      <td>2705.0</td>\n",
              "      <td>27.0</td>\n",
              "      <td>113.0</td>\n",
              "    </tr>\n",
              "    <tr>\n",
              "      <th>B576</th>\n",
              "      <td>18.7</td>\n",
              "      <td>2825.0</td>\n",
              "      <td>20.0</td>\n",
              "      <td>166.0</td>\n",
              "    </tr>\n",
              "    <tr>\n",
              "      <th>B605</th>\n",
              "      <td>18.1</td>\n",
              "      <td>2875.0</td>\n",
              "      <td>15.0</td>\n",
              "      <td>150.0</td>\n",
              "    </tr>\n",
              "    <tr>\n",
              "      <th>B612</th>\n",
              "      <td>16.6</td>\n",
              "      <td>2945.0</td>\n",
              "      <td>25.0</td>\n",
              "      <td>100.0</td>\n",
              "    </tr>\n",
              "    <tr>\n",
              "      <th>B615</th>\n",
              "      <td>17.1</td>\n",
              "      <td>2920.0</td>\n",
              "      <td>25.0</td>\n",
              "      <td>123.0</td>\n",
              "    </tr>\n",
              "    <tr>\n",
              "      <th>B649</th>\n",
              "      <td>17.4</td>\n",
              "      <td>2845.0</td>\n",
              "      <td>19.0</td>\n",
              "      <td>129.0</td>\n",
              "    </tr>\n",
              "    <tr>\n",
              "      <th>B665</th>\n",
              "      <td>19.4</td>\n",
              "      <td>2645.0</td>\n",
              "      <td>18.0</td>\n",
              "      <td>68.0</td>\n",
              "    </tr>\n",
              "    <tr>\n",
              "      <th>B674</th>\n",
              "      <td>15.9</td>\n",
              "      <td>3080.0</td>\n",
              "      <td>23.0</td>\n",
              "      <td>106.0</td>\n",
              "    </tr>\n",
              "    <tr>\n",
              "      <th>B692</th>\n",
              "      <td>17.1</td>\n",
              "      <td>2825.0</td>\n",
              "      <td>28.0</td>\n",
              "      <td>131.0</td>\n",
              "    </tr>\n",
              "    <tr>\n",
              "      <th>B694</th>\n",
              "      <td>15.5</td>\n",
              "      <td>3125.0</td>\n",
              "      <td>33.0</td>\n",
              "      <td>92.0</td>\n",
              "    </tr>\n",
              "    <tr>\n",
              "      <th>B719</th>\n",
              "      <td>17.7</td>\n",
              "      <td>2780.0</td>\n",
              "      <td>22.0</td>\n",
              "      <td>141.0</td>\n",
              "    </tr>\n",
              "    <tr>\n",
              "      <th>B727</th>\n",
              "      <td>15.9</td>\n",
              "      <td>2900.0</td>\n",
              "      <td>21.0</td>\n",
              "      <td>192.0</td>\n",
              "    </tr>\n",
              "    <tr>\n",
              "      <th>B758</th>\n",
              "      <td>21.2</td>\n",
              "      <td>2570.0</td>\n",
              "      <td>13.0</td>\n",
              "      <td>105.0</td>\n",
              "    </tr>\n",
              "    <tr>\n",
              "      <th>B776</th>\n",
              "      <td>19.5</td>\n",
              "      <td>2635.0</td>\n",
              "      <td>22.0</td>\n",
              "      <td>101.0</td>\n",
              "    </tr>\n",
              "    <tr>\n",
              "      <th>B799</th>\n",
              "      <td>20.5</td>\n",
              "      <td>2725.0</td>\n",
              "      <td>16.0</td>\n",
              "      <td>145.0</td>\n",
              "    </tr>\n",
              "    <tr>\n",
              "      <th>B836</th>\n",
              "      <td>17.0</td>\n",
              "      <td>2865.0</td>\n",
              "      <td>22.0</td>\n",
              "      <td>100.0</td>\n",
              "    </tr>\n",
              "    <tr>\n",
              "      <th>B848</th>\n",
              "      <td>16.7</td>\n",
              "      <td>2975.0</td>\n",
              "      <td>26.0</td>\n",
              "      <td>105.0</td>\n",
              "    </tr>\n",
              "    <tr>\n",
              "      <th>B861</th>\n",
              "      <td>16.8</td>\n",
              "      <td>2980.0</td>\n",
              "      <td>24.0</td>\n",
              "      <td>144.0</td>\n",
              "    </tr>\n",
              "    <tr>\n",
              "      <th>B869</th>\n",
              "      <td>16.8</td>\n",
              "      <td>2870.0</td>\n",
              "      <td>20.0</td>\n",
              "      <td>123.0</td>\n",
              "    </tr>\n",
              "    <tr>\n",
              "      <th>B876</th>\n",
              "      <td>16.3</td>\n",
              "      <td>2920.0</td>\n",
              "      <td>22.0</td>\n",
              "      <td>136.0</td>\n",
              "    </tr>\n",
              "    <tr>\n",
              "      <th>B882</th>\n",
              "      <td>16.2</td>\n",
              "      <td>3100.0</td>\n",
              "      <td>27.0</td>\n",
              "      <td>140.0</td>\n",
              "    </tr>\n",
              "    <tr>\n",
              "      <th>B889</th>\n",
              "      <td>18.1</td>\n",
              "      <td>2910.0</td>\n",
              "      <td>21.0</td>\n",
              "      <td>120.0</td>\n",
              "    </tr>\n",
              "    <tr>\n",
              "      <th>B907</th>\n",
              "      <td>16.6</td>\n",
              "      <td>2865.0</td>\n",
              "      <td>25.0</td>\n",
              "      <td>120.0</td>\n",
              "    </tr>\n",
              "    <tr>\n",
              "      <th>B911</th>\n",
              "      <td>16.4</td>\n",
              "      <td>2995.0</td>\n",
              "      <td>20.0</td>\n",
              "      <td>165.0</td>\n",
              "    </tr>\n",
              "    <tr>\n",
              "      <th>B923</th>\n",
              "      <td>15.1</td>\n",
              "      <td>2925.0</td>\n",
              "      <td>29.0</td>\n",
              "      <td>118.0</td>\n",
              "    </tr>\n",
              "    <tr>\n",
              "      <th>B971</th>\n",
              "      <td>21.1</td>\n",
              "      <td>2700.0</td>\n",
              "      <td>16.0</td>\n",
              "      <td>116.0</td>\n",
              "    </tr>\n",
              "    <tr>\n",
              "      <th>B998</th>\n",
              "      <td>16.3</td>\n",
              "      <td>2845.0</td>\n",
              "      <td>26.0</td>\n",
              "      <td>75.0</td>\n",
              "    </tr>\n",
              "  </tbody>\n",
              "</table>\n",
              "</div>\n",
              "    <div class=\"colab-df-buttons\">\n",
              "\n",
              "  <div class=\"colab-df-container\">\n",
              "    <button class=\"colab-df-convert\" onclick=\"convertToInteractive('df-98602488-bcd4-4c3c-beca-318ced88b5ab')\"\n",
              "            title=\"Convert this dataframe to an interactive table.\"\n",
              "            style=\"display:none;\">\n",
              "\n",
              "  <svg xmlns=\"http://www.w3.org/2000/svg\" height=\"24px\" viewBox=\"0 -960 960 960\">\n",
              "    <path d=\"M120-120v-720h720v720H120Zm60-500h600v-160H180v160Zm220 220h160v-160H400v160Zm0 220h160v-160H400v160ZM180-400h160v-160H180v160Zm440 0h160v-160H620v160ZM180-180h160v-160H180v160Zm440 0h160v-160H620v160Z\"/>\n",
              "  </svg>\n",
              "    </button>\n",
              "\n",
              "  <style>\n",
              "    .colab-df-container {\n",
              "      display:flex;\n",
              "      gap: 12px;\n",
              "    }\n",
              "\n",
              "    .colab-df-convert {\n",
              "      background-color: #E8F0FE;\n",
              "      border: none;\n",
              "      border-radius: 50%;\n",
              "      cursor: pointer;\n",
              "      display: none;\n",
              "      fill: #1967D2;\n",
              "      height: 32px;\n",
              "      padding: 0 0 0 0;\n",
              "      width: 32px;\n",
              "    }\n",
              "\n",
              "    .colab-df-convert:hover {\n",
              "      background-color: #E2EBFA;\n",
              "      box-shadow: 0px 1px 2px rgba(60, 64, 67, 0.3), 0px 1px 3px 1px rgba(60, 64, 67, 0.15);\n",
              "      fill: #174EA6;\n",
              "    }\n",
              "\n",
              "    .colab-df-buttons div {\n",
              "      margin-bottom: 4px;\n",
              "    }\n",
              "\n",
              "    [theme=dark] .colab-df-convert {\n",
              "      background-color: #3B4455;\n",
              "      fill: #D2E3FC;\n",
              "    }\n",
              "\n",
              "    [theme=dark] .colab-df-convert:hover {\n",
              "      background-color: #434B5C;\n",
              "      box-shadow: 0px 1px 3px 1px rgba(0, 0, 0, 0.15);\n",
              "      filter: drop-shadow(0px 1px 2px rgba(0, 0, 0, 0.3));\n",
              "      fill: #FFFFFF;\n",
              "    }\n",
              "  </style>\n",
              "\n",
              "    <script>\n",
              "      const buttonEl =\n",
              "        document.querySelector('#df-98602488-bcd4-4c3c-beca-318ced88b5ab button.colab-df-convert');\n",
              "      buttonEl.style.display =\n",
              "        google.colab.kernel.accessAllowed ? 'block' : 'none';\n",
              "\n",
              "      async function convertToInteractive(key) {\n",
              "        const element = document.querySelector('#df-98602488-bcd4-4c3c-beca-318ced88b5ab');\n",
              "        const dataTable =\n",
              "          await google.colab.kernel.invokeFunction('convertToInteractive',\n",
              "                                                    [key], {});\n",
              "        if (!dataTable) return;\n",
              "\n",
              "        const docLinkHtml = 'Like what you see? Visit the ' +\n",
              "          '<a target=\"_blank\" href=https://colab.research.google.com/notebooks/data_table.ipynb>data table notebook</a>'\n",
              "          + ' to learn more about interactive tables.';\n",
              "        element.innerHTML = '';\n",
              "        dataTable['output_type'] = 'display_data';\n",
              "        await google.colab.output.renderOutput(dataTable, element);\n",
              "        const docLink = document.createElement('div');\n",
              "        docLink.innerHTML = docLinkHtml;\n",
              "        element.appendChild(docLink);\n",
              "      }\n",
              "    </script>\n",
              "  </div>\n",
              "\n",
              "\n",
              "<div id=\"df-2a8a15ab-e50a-4926-be6c-fa0b7271c650\">\n",
              "  <button class=\"colab-df-quickchart\" onclick=\"quickchart('df-2a8a15ab-e50a-4926-be6c-fa0b7271c650')\"\n",
              "            title=\"Suggest charts\"\n",
              "            style=\"display:none;\">\n",
              "\n",
              "<svg xmlns=\"http://www.w3.org/2000/svg\" height=\"24px\"viewBox=\"0 0 24 24\"\n",
              "     width=\"24px\">\n",
              "    <g>\n",
              "        <path d=\"M19 3H5c-1.1 0-2 .9-2 2v14c0 1.1.9 2 2 2h14c1.1 0 2-.9 2-2V5c0-1.1-.9-2-2-2zM9 17H7v-7h2v7zm4 0h-2V7h2v10zm4 0h-2v-4h2v4z\"/>\n",
              "    </g>\n",
              "</svg>\n",
              "  </button>\n",
              "\n",
              "<style>\n",
              "  .colab-df-quickchart {\n",
              "      --bg-color: #E8F0FE;\n",
              "      --fill-color: #1967D2;\n",
              "      --hover-bg-color: #E2EBFA;\n",
              "      --hover-fill-color: #174EA6;\n",
              "      --disabled-fill-color: #AAA;\n",
              "      --disabled-bg-color: #DDD;\n",
              "  }\n",
              "\n",
              "  [theme=dark] .colab-df-quickchart {\n",
              "      --bg-color: #3B4455;\n",
              "      --fill-color: #D2E3FC;\n",
              "      --hover-bg-color: #434B5C;\n",
              "      --hover-fill-color: #FFFFFF;\n",
              "      --disabled-bg-color: #3B4455;\n",
              "      --disabled-fill-color: #666;\n",
              "  }\n",
              "\n",
              "  .colab-df-quickchart {\n",
              "    background-color: var(--bg-color);\n",
              "    border: none;\n",
              "    border-radius: 50%;\n",
              "    cursor: pointer;\n",
              "    display: none;\n",
              "    fill: var(--fill-color);\n",
              "    height: 32px;\n",
              "    padding: 0;\n",
              "    width: 32px;\n",
              "  }\n",
              "\n",
              "  .colab-df-quickchart:hover {\n",
              "    background-color: var(--hover-bg-color);\n",
              "    box-shadow: 0 1px 2px rgba(60, 64, 67, 0.3), 0 1px 3px 1px rgba(60, 64, 67, 0.15);\n",
              "    fill: var(--button-hover-fill-color);\n",
              "  }\n",
              "\n",
              "  .colab-df-quickchart-complete:disabled,\n",
              "  .colab-df-quickchart-complete:disabled:hover {\n",
              "    background-color: var(--disabled-bg-color);\n",
              "    fill: var(--disabled-fill-color);\n",
              "    box-shadow: none;\n",
              "  }\n",
              "\n",
              "  .colab-df-spinner {\n",
              "    border: 2px solid var(--fill-color);\n",
              "    border-color: transparent;\n",
              "    border-bottom-color: var(--fill-color);\n",
              "    animation:\n",
              "      spin 1s steps(1) infinite;\n",
              "  }\n",
              "\n",
              "  @keyframes spin {\n",
              "    0% {\n",
              "      border-color: transparent;\n",
              "      border-bottom-color: var(--fill-color);\n",
              "      border-left-color: var(--fill-color);\n",
              "    }\n",
              "    20% {\n",
              "      border-color: transparent;\n",
              "      border-left-color: var(--fill-color);\n",
              "      border-top-color: var(--fill-color);\n",
              "    }\n",
              "    30% {\n",
              "      border-color: transparent;\n",
              "      border-left-color: var(--fill-color);\n",
              "      border-top-color: var(--fill-color);\n",
              "      border-right-color: var(--fill-color);\n",
              "    }\n",
              "    40% {\n",
              "      border-color: transparent;\n",
              "      border-right-color: var(--fill-color);\n",
              "      border-top-color: var(--fill-color);\n",
              "    }\n",
              "    60% {\n",
              "      border-color: transparent;\n",
              "      border-right-color: var(--fill-color);\n",
              "    }\n",
              "    80% {\n",
              "      border-color: transparent;\n",
              "      border-right-color: var(--fill-color);\n",
              "      border-bottom-color: var(--fill-color);\n",
              "    }\n",
              "    90% {\n",
              "      border-color: transparent;\n",
              "      border-bottom-color: var(--fill-color);\n",
              "    }\n",
              "  }\n",
              "</style>\n",
              "\n",
              "  <script>\n",
              "    async function quickchart(key) {\n",
              "      const quickchartButtonEl =\n",
              "        document.querySelector('#' + key + ' button');\n",
              "      quickchartButtonEl.disabled = true;  // To prevent multiple clicks.\n",
              "      quickchartButtonEl.classList.add('colab-df-spinner');\n",
              "      try {\n",
              "        const charts = await google.colab.kernel.invokeFunction(\n",
              "            'suggestCharts', [key], {});\n",
              "      } catch (error) {\n",
              "        console.error('Error during call to suggestCharts:', error);\n",
              "      }\n",
              "      quickchartButtonEl.classList.remove('colab-df-spinner');\n",
              "      quickchartButtonEl.classList.add('colab-df-quickchart-complete');\n",
              "    }\n",
              "    (() => {\n",
              "      let quickchartButtonEl =\n",
              "        document.querySelector('#df-2a8a15ab-e50a-4926-be6c-fa0b7271c650 button');\n",
              "      quickchartButtonEl.style.display =\n",
              "        google.colab.kernel.accessAllowed ? 'block' : 'none';\n",
              "    })();\n",
              "  </script>\n",
              "</div>\n",
              "\n",
              "    </div>\n",
              "  </div>\n"
            ],
            "application/vnd.google.colaboratory.intrinsic+json": {
              "type": "dataframe",
              "summary": "{\n  \"name\": \"df_food[continuous_cols]\",\n  \"rows\": 50,\n  \"fields\": [\n    {\n      \"column\": \"Oil\",\n      \"properties\": {\n        \"dtype\": \"number\",\n        \"std\": 1.5920068197987451,\n        \"min\": 13.7,\n        \"max\": 21.2,\n        \"num_unique_values\": 33,\n        \"samples\": [\n          15.1,\n          17.3,\n          21.2\n        ],\n        \"semantic_type\": \"\",\n        \"description\": \"\"\n      }\n    },\n    {\n      \"column\": \"Density\",\n      \"properties\": {\n        \"dtype\": \"number\",\n        \"std\": 124.49997950987456,\n        \"min\": 2570.0,\n        \"max\": 3125.0,\n        \"num_unique_values\": 38,\n        \"samples\": [\n          3100.0,\n          2925.0,\n          2975.0\n        ],\n        \"semantic_type\": \"\",\n        \"description\": \"\"\n      }\n    },\n    {\n      \"column\": \"Fracture\",\n      \"properties\": {\n        \"dtype\": \"number\",\n        \"std\": 5.466073470387448,\n        \"min\": 9.0,\n        \"max\": 33.0,\n        \"num_unique_values\": 22,\n        \"samples\": [\n          23.0,\n          10.0,\n          18.0\n        ],\n        \"semantic_type\": \"\",\n        \"description\": \"\"\n      }\n    },\n    {\n      \"column\": \"Hardness\",\n      \"properties\": {\n        \"dtype\": \"number\",\n        \"std\": 31.127578165494658,\n        \"min\": 63.0,\n        \"max\": 192.0,\n        \"num_unique_values\": 41,\n        \"samples\": [\n          129.0,\n          65.0,\n          132.0\n        ],\n        \"semantic_type\": \"\",\n        \"description\": \"\"\n      }\n    }\n  ]\n}"
            }
          },
          "metadata": {},
          "execution_count": 65
        }
      ]
    },
    {
      "cell_type": "code",
      "source": [
        "pca = PCA(n_components = 1)\n",
        "np.sum(np.var(pca.fit_transform(X), axis = 0))/np.sum(np.var(X, axis = 0))"
      ],
      "metadata": {
        "id": "DXAWqU6bHDUL",
        "colab": {
          "base_uri": "https://localhost:8080/"
        },
        "outputId": "f17c9f45-4ee3-4c4a-e3b6-04b3b39e28d0"
      },
      "execution_count": 66,
      "outputs": [
        {
          "output_type": "execute_result",
          "data": {
            "text/plain": [
              "0.9911907451840251"
            ]
          },
          "metadata": {},
          "execution_count": 66
        }
      ]
    },
    {
      "cell_type": "code",
      "source": [
        "# numpy array of data corresponding to continuous columns\n",
        "X = np.array(df_food[continuous_cols])\n",
        "\n",
        "# Create and fit PCA object\n",
        "pca = PCA(n_components = 1)\n",
        "pca.fit(X)\n",
        "\n",
        "# Print principal components\n",
        "print(pca.components_)\n",
        "\n",
        "# Print explained variance\n",
        "print(pca.explained_variance_)"
      ],
      "metadata": {
        "id": "A5x0syMhs6xt",
        "colab": {
          "base_uri": "https://localhost:8080/"
        },
        "outputId": "48d7528d-83e2-4e50-aaa0-b744c6a82e7f"
      },
      "execution_count": 67,
      "outputs": [
        {
          "output_type": "stream",
          "name": "stdout",
          "text": [
            "[[-0.00958687  0.99923202  0.0249962   0.02861215]]\n",
            "[15523.38854181]\n"
          ]
        }
      ]
    },
    {
      "cell_type": "markdown",
      "source": [
        "---\n",
        "\n",
        "Project all samples on to the direction of the first principal component vector\n",
        "\n",
        "---"
      ],
      "metadata": {
        "id": "oWx_DR6Q813r"
      }
    },
    {
      "cell_type": "code",
      "source": [
        "# Get the first principal component vector\n",
        "v = pca.components_.flatten()\n",
        "print(v)\n",
        "print('--------------')\n",
        "\n",
        "# Print the norm of the first principal component vector\n",
        "print(np.linalg.norm(v))\n",
        "print('--------------')\n",
        "\n",
        "# Project all samples on to the direction of the first principal component vector\n",
        "X_projected = np.dot(X, v) / np.linalg.norm(v)\n",
        "# Variance of the projected samples\n",
        "print(np.var(X_projected))"
      ],
      "metadata": {
        "id": "ZTEHq5TvQXeU",
        "colab": {
          "base_uri": "https://localhost:8080/"
        },
        "outputId": "5601ebf9-2831-402c-e161-a09627d44ddf"
      },
      "execution_count": 68,
      "outputs": [
        {
          "output_type": "stream",
          "name": "stdout",
          "text": [
            "[-0.00958687  0.99923202  0.0249962   0.02861215]\n",
            "--------------\n",
            "0.9999999999999996\n",
            "--------------\n",
            "15212.920770976967\n"
          ]
        }
      ]
    },
    {
      "cell_type": "markdown",
      "source": [
        "---\n",
        "\n",
        "Plot the projections of the data on to the directions of several vectors and observe how the projected data is distributed in comparison to the projection on to the first principal direction.\n",
        "\n",
        "---"
      ],
      "metadata": {
        "id": "BLmE-qYx_jT7"
      }
    },
    {
      "cell_type": "code",
      "source": [
        "# The vectors along which the data is projected form the columns of a matrix\n",
        "V = np.vstack((v, np.array([1, 1, 1, 1]),  np.array([1, -1, 1, -1]), np.array([1, 0, 1, 1]))).T\n",
        "print(V)\n",
        "print('--------------')\n",
        "\n",
        "# The projected versions of the samples are the columns of the matrix-matrix product XV\n",
        "X_projected = np.dot(X, V) / np.linalg.norm(V, axis = 0)\n",
        "\n",
        "# The variance of the projected samples on to each direction\n",
        "# Note which direction results in the largest variance\n",
        "print(np.var(X_projected, axis = 0))\n",
        "print('--------------')\n",
        "\n",
        "# Plot the projected versions of the samples\n",
        "# Note which projection shows the largest variance in data\n",
        "fig, ax = plt.subplots(1, 1, figsize = (6, 4))\n",
        "fig.tight_layout(pad = 4.0)\n",
        "ax.scatter(X_projected[:, 0], np.zeros(len(X_projected[:, 0])), s = 10, label = 'v = first principal component vector')\n",
        "ax.scatter(X_projected[:, 1], np.zeros(len(X_projected[:, 1])), s = 10, label = 'v = [1, 1, 1, 1]')\n",
        "ax.scatter(X_projected[:, 2], np.zeros(len(X_projected[:, 2])), s = 10, label = 'v = [1, -1, 1, -1]')\n",
        "ax.scatter(X_projected[:, 3], np.zeros(len(X_projected[:, 3])), s = 10, label = 'v = [1, 0, 1, 1]')\n",
        "ax.legend(loc='upper right');"
      ],
      "metadata": {
        "id": "duxIhJdY_j2Q",
        "colab": {
          "base_uri": "https://localhost:8080/",
          "height": 442
        },
        "outputId": "d54a8d33-498f-4709-fb53-d8173177ad25"
      },
      "execution_count": 69,
      "outputs": [
        {
          "output_type": "stream",
          "name": "stdout",
          "text": [
            "[[-0.00958687  1.          1.          1.        ]\n",
            " [ 0.99923202  1.         -1.          0.        ]\n",
            " [ 0.0249962   1.          1.          1.        ]\n",
            " [ 0.02861215  1.         -1.          1.        ]]\n",
            "--------------\n",
            "[15212.92077098  4330.057909    4161.098269     279.45667867]\n",
            "--------------\n"
          ]
        },
        {
          "output_type": "display_data",
          "data": {
            "text/plain": [
              "<Figure size 600x400 with 1 Axes>"
            ],
            "image/png": "[encoded data removed]"
          },
          "metadata": {}
        }
      ]
    },
    {
      "cell_type": "markdown",
      "source": [
        "---\n",
        "\n",
        "Standardize data and repeat PCA with one component\n",
        "\n",
        "---"
      ],
      "metadata": {
        "id": "4JXsTYBGSCX0"
      }
    },
    {
      "cell_type": "code",
      "source": [
        "# numpy array of data corresponding to continuous columns\n",
        "sc = StandardScaler()\n",
        "X = sc.fit_transform(np.array(df_food[continuous_cols]))\n",
        "\n",
        "# Create and fit PCA object\n",
        "pca = PCA(n_components = 4)\n",
        "pca.fit(X)\n",
        "\n",
        "# Print principal components\n",
        "print(pca.components_)\n",
        "\n",
        "# Print explained variance\n",
        "print(pca.explained_variance_)"
      ],
      "metadata": {
        "id": "Qg7JHqNrSGGP",
        "colab": {
          "base_uri": "https://localhost:8080/"
        },
        "outputId": "80ec2360-5663-4e2d-ecda-aa4cd2414cae"
      },
      "execution_count": 70,
      "outputs": [
        {
          "output_type": "stream",
          "name": "stdout",
          "text": [
            "[[-0.58633268  0.59639892  0.54419604 -0.06612857]\n",
            " [-0.22401109  0.21977465 -0.37628261  0.87173937]\n",
            " [ 0.59225884  0.01510427  0.67499995  0.43974583]\n",
            " [ 0.50523509  0.77186741 -0.32655341 -0.20572088]]\n",
            "[2.29331669 1.2378076  0.30740296 0.2431054 ]\n"
          ]
        }
      ]
    },
    {
      "cell_type": "code",
      "source": [
        "np.cumsum(pca.explained_variance_)/np.sum(pca.explained_variance_)"
      ],
      "metadata": {
        "id": "wbpYoU49KyD_",
        "colab": {
          "base_uri": "https://localhost:8080/"
        },
        "outputId": "a742e928-49dc-4a21-f47d-d0347dd066dd"
      },
      "execution_count": 71,
      "outputs": [
        {
          "output_type": "execute_result",
          "data": {
            "text/plain": [
              "array([0.56186259, 0.86512545, 0.94043918, 1.        ])"
            ]
          },
          "metadata": {},
          "execution_count": 71
        }
      ]
    },
    {
      "cell_type": "markdown",
      "source": [
        "---\n",
        "\n",
        "PCA with two components\n",
        "\n",
        "---"
      ],
      "metadata": {
        "id": "rb-jfuv9SUpG"
      }
    },
    {
      "cell_type": "code",
      "source": [
        "# Create and fit PCA object\n",
        "pca = PCA(n_components = 2)\n",
        "pca.fit(X)\n",
        "\n",
        "# Print principal components\n",
        "print(pca.components_)\n",
        "\n",
        "# Print explained variance\n",
        "print(pca.explained_variance_)"
      ],
      "metadata": {
        "id": "CYP7Cd9WSYKU",
        "colab": {
          "base_uri": "https://localhost:8080/"
        },
        "outputId": "a23eb34c-6198-47bd-c256-39e3d603fe36"
      },
      "execution_count": 72,
      "outputs": [
        {
          "output_type": "stream",
          "name": "stdout",
          "text": [
            "[[-0.58633268  0.59639892  0.54419604 -0.06612857]\n",
            " [-0.22401109  0.21977465 -0.37628261  0.87173937]]\n",
            "[2.29331669 1.2378076 ]\n"
          ]
        }
      ]
    },
    {
      "cell_type": "markdown",
      "source": [
        "---\n",
        "\n",
        "PCA with four components\n",
        "\n",
        "---"
      ],
      "metadata": {
        "id": "Qd6nFHqTSgpv"
      }
    },
    {
      "cell_type": "code",
      "source": [
        "# Create and fit PCA object\n",
        "pca = PCA(n_components = 4)\n",
        "pca.fit(X)\n",
        "\n",
        "# Print principal components\n",
        "print(pca.components_)\n",
        "\n",
        "# Print explained variance\n",
        "print(pca.explained_variance_)"
      ],
      "metadata": {
        "id": "DdtC12UhSihK",
        "colab": {
          "base_uri": "https://localhost:8080/"
        },
        "outputId": "526b9ab4-e550-44fa-dad3-25e9628be630"
      },
      "execution_count": 73,
      "outputs": [
        {
          "output_type": "stream",
          "name": "stdout",
          "text": [
            "[[-0.58633268  0.59639892  0.54419604 -0.06612857]\n",
            " [-0.22401109  0.21977465 -0.37628261  0.87173937]\n",
            " [ 0.59225884  0.01510427  0.67499995  0.43974583]\n",
            " [ 0.50523509  0.77186741 -0.32655341 -0.20572088]]\n",
            "[2.29331669 1.2378076  0.30740296 0.2431054 ]\n"
          ]
        }
      ]
    },
    {
      "cell_type": "markdown",
      "source": [
        "---\n",
        "\n",
        "Fit a PCA model for the dataset considering only two features: (1) Density (2) Hardness"
      ],
      "metadata": {
        "id": "p0yaZFcX2wrL"
      }
    },
    {
      "cell_type": "code",
      "source": [
        "# Create and fit PCA object\n",
        "pca = PCA(n_components = 2)\n",
        "pca.fit(X[:, -2:])\n",
        "\n",
        "# Print principal components\n",
        "print(pca.components_)\n",
        "\n",
        "# Print explained variance\n",
        "print(pca.explained_variance_)"
      ],
      "metadata": {
        "id": "iu8F-GPe3JBC",
        "colab": {
          "base_uri": "https://localhost:8080/"
        },
        "outputId": "e4bf9904-7c8b-4b49-a5e1-a0b68db01b02"
      },
      "execution_count": 74,
      "outputs": [
        {
          "output_type": "stream",
          "name": "stdout",
          "text": [
            "[[ 0.70710678 -0.70710678]\n",
            " [ 0.70710678  0.70710678]]\n",
            "[1.40138616 0.63943017]\n"
          ]
        }
      ]
    },
    {
      "cell_type": "code",
      "source": [
        "## Scatter plot of density and hardness along with the component vectors\n",
        "fig, ax = plt.subplots(1, 1, figsize = (4, 4))\n",
        "fig.tight_layout(pad = 4.0)\n",
        "ax.scatter(X[:, -2], X[:, 1], s = 4.0, alpha = 0.2, color = 'red')\n",
        "arrowprops = dict(arrowstyle = '->', linewidth = 2, shrinkA = 0, shrinkB = 0)\n",
        "ax.annotate('', xy = (pca.components_[0, 0], pca.components_[1, 0]), xytext = (0, 0), arrowprops = arrowprops)\n",
        "ax.annotate('', xy = (pca.components_[0, 1], pca.components_[1, 1]), xytext = (0, 0), arrowprops = arrowprops)"
      ],
      "metadata": {
        "id": "TIeHykZzTBXc",
        "colab": {
          "base_uri": "https://localhost:8080/",
          "height": 337
        },
        "outputId": "ffe72bec-ff6a-4f61-8ec7-dd8663b11d7b"
      },
      "execution_count": 75,
      "outputs": [
        {
          "output_type": "execute_result",
          "data": {
            "text/plain": [
              "Text(0, 0, '')"
            ]
          },
          "metadata": {},
          "execution_count": 75
        },
        {
          "output_type": "display_data",
          "data": {
            "text/plain": [
              "<Figure size 400x400 with 1 Axes>"
            ],
            "image/png": "[encoded data removed]"
          },
          "metadata": {}
        }
      ]
    },
    {
      "cell_type": "code",
      "source": [],
      "metadata": {
        "id": "3A9hxBymOQYE"
      },
      "execution_count": null,
      "outputs": []
    },
    {
      "cell_type": "code",
      "source": [
        "pca.components_[1, 0]"
      ],
      "metadata": {
        "id": "RvYLBXJ85sJw",
        "colab": {
          "base_uri": "https://localhost:8080/"
        },
        "outputId": "7a362411-bf91-47eb-8702-0587c9844c54"
      },
      "execution_count": 76,
      "outputs": [
        {
          "output_type": "execute_result",
          "data": {
            "text/plain": [
              "0.7071067811865472"
            ]
          },
          "metadata": {},
          "execution_count": 76
        }
      ]
    }
  ]
}